{
 "cells": [
  {
   "cell_type": "markdown",
   "id": "fe9ecd1d",
   "metadata": {},
   "source": [
    "## 1. Installation\n",
    "Ensure you have Python installed. You can install SciPy with the following command:\n",
    "```bash\n",
    "pip install scipy\n",
    "```"
   ]
  },
  {
   "cell_type": "code",
   "execution_count": null,
   "id": "d3b4f244",
   "metadata": {},
   "outputs": [],
   "source": [
    "import numpy as np\n",
    "from scipy import stats\n",
    "from scipy import optimize\n",
    "from scipy import integrate\n",
    "import matplotlib.pyplot as plt"
   ]
  },
  {
   "cell_type": "markdown",
   "id": "d006b656",
   "metadata": {},
   "source": [
    "## 2. Basic Statistics"
   ]
  },
  {
   "cell_type": "code",
   "execution_count": null,
   "id": "4791c4ef",
   "metadata": {},
   "outputs": [],
   "source": [
    "# Generating random data\n",
    "data = np.random.normal(0, 1, size=100)\n",
    "\n",
    "# Calculating descriptive statistics\n",
    "mean = np.mean(data)\n",
    "median = np.median(data)\n",
    "mode = stats.mode(data)\n",
    "\n",
    "print(f'Mean: {mean}, Median: {median}, Mode: {mode.mode[0]}')"
   ]
  },
  {
   "cell_type": "markdown",
   "id": "a651e810",
   "metadata": {},
   "source": [
    "## 3. Optimization"
   ]
  },
  {
   "cell_type": "code",
   "execution_count": null,
   "id": "f24a831f",
   "metadata": {},
   "outputs": [],
   "source": [
    "# Defining a function\n",
    "def f(x):\n",
    "    return x**2 + 10*np.sin(x)\n",
    "\n",
    "# Finding the global minimum\n",
    "result = optimize.minimize(f, x0=0)\n",
    "print(f'Global minimum: {result.x}')"
   ]
  },
  {
   "cell_type": "markdown",
   "id": "a710fa6f",
   "metadata": {},
   "source": [
    "## 4. Integration"
   ]
  },
  {
   "cell_type": "code",
   "execution_count": null,
   "id": "27778bd6",
   "metadata": {},
   "outputs": [],
   "source": [
    "# Defining a function for integration\n",
    "def integrand(x):\n",
    "    return x**2\n",
    "\n",
    "result = integrate.quad(integrand, 0, 1)\n",
    "print(f'Integral result: {result[0]}')"
   ]
  },
  {
   "cell_type": "markdown",
   "id": "ef3a5be8",
   "metadata": {},
   "source": [
    "## 5. Linear Algebra"
   ]
  },
  {
   "cell_type": "code",
   "execution_count": null,
   "id": "7d649ce0",
   "metadata": {},
   "outputs": [],
   "source": [
    "from scipy.linalg import solve\n",
    "\n",
    "# Defining matrix A and vector B\n",
    "A = np.array([[3, 2], [2, 6]])\n",
    "b = np.array([2, -8])\n",
    "\n",
    "# Solving for x in Ax = b\n",
    "x = solve(A, b)\n",
    "print(f'Solution of Ax = b: {x}')"
   ]
  },
  {
   "cell_type": "markdown",
   "id": "c5039168",
   "metadata": {},
   "source": [
    "## 6. Fourier Transformations"
   ]
  },
  {
   "cell_type": "code",
   "execution_count": null,
   "id": "6cf1592d",
   "metadata": {},
   "outputs": [],
   "source": [
    "# Generate a signal\n",
    "t = np.linspace(0, 10, 500)\n",
    "y = np.sin(t)\n",
    "\n",
    "# Compute the Fast Fourier Transform (FFT)\n",
    "fft_result = np.fft.fft(y)\n",
    "\n",
    "# Plotting the magnitude of the FFT\n",
    "plt.figure(figsize=(10, 5))\n",
    "plt.plot(np.abs(fft_result))\n",
    "plt.title('FFT of the signal')\n",
    "plt.xlabel('Frequency (Hz)')\n",
    "plt.ylabel('Magnitude')\n",
    "plt.grid(True)\n",
    "plt.show()"
   ]
  },
  {
   "cell_type": "markdown",
   "id": "d9259a25",
   "metadata": {},
   "source": [
    "## 7. Custom Functions"
   ]
  },
  {
   "cell_type": "code",
   "execution_count": null,
   "id": "ac9698c3",
   "metadata": {},
   "outputs": [],
   "source": [
    "# Custom function for curve fitting\n",
    "def model(x, a, b):\n",
    "    return a * np.log(b * x)\n",
    "\n",
    "# Generate synthetic data\n",
    "x_data = np.linspace(1, 100, 400)\n",
    "y_data = model(x_data, 2.5, 1.3) + np.random.normal(size=x_data.size)\n",
    "\n",
    "# Fit the model to the data\n",
    "params, params_covariance = optimize.curve_fit(model, x_data, y_data)\n",
    "\n",
    "print(f'Fitted parameters: {params}')"
   ]
  }
 ],
 "metadata": {},
 "nbformat": 4,
 "nbformat_minor": 5
}
