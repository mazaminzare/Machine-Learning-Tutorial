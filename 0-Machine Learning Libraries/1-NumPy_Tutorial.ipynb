{
 "cells": [
  {
   "cell_type": "markdown",
   "id": "25f65bbd",
   "metadata": {},
   "source": [
    "# Comprehensive NumPy Tutorial"
   ]
  },
  {
   "cell_type": "markdown",
   "id": "fe28aa4e",
   "metadata": {},
   "source": [
    "\n",
    "## Introduction to NumPy\n",
    "NumPy is a fundamental package for scientific computing with Python. It provides support for large multi-dimensional arrays and matrices, along with a collection of mathematical functions to operate on these arrays.\n"
   ]
  },
  {
   "cell_type": "markdown",
   "id": "7ece7a03",
   "metadata": {},
   "source": [
    "## Setting Up NumPy\n",
    "First, you need to install NumPy. This can be done using pip:"
   ]
  },
  {
   "cell_type": "code",
   "execution_count": null,
   "id": "440dc66b",
   "metadata": {},
   "outputs": [],
   "source": [
    "!pip install numpy"
   ]
  },
  {
   "cell_type": "markdown",
   "id": "1918c46e",
   "metadata": {},
   "source": [
    "\n",
    "## Basic NumPy Operations\n",
    "Here, we'll cover some basic operations in NumPy, such as creating arrays and performing arithmetic operations.\n"
   ]
  },
  {
   "cell_type": "code",
   "execution_count": null,
   "id": "aebbcbd8",
   "metadata": {},
   "outputs": [],
   "source": [
    "\n",
    "import numpy as np\n",
    "\n",
    "# Create arrays\n",
    "a = np.array([1, 2, 3])\n",
    "b = np.array([4, 5, 6])\n",
    "\n",
    "# Perform arithmetic operations\n",
    "c = a + b\n",
    "d = a * b\n",
    "\n",
    "print(f\"c = {c}, d = {d}\")\n"
   ]
  },
  {
   "cell_type": "markdown",
   "id": "fb7ddb6f",
   "metadata": {},
   "source": [
    "\n",
    "## Array Creation and Manipulation\n",
    "NumPy provides various functions to create and manipulate arrays.\n"
   ]
  },
  {
   "cell_type": "code",
   "execution_count": null,
   "id": "95633258",
   "metadata": {},
   "outputs": [],
   "source": [
    "\n",
    "# Create arrays of zeros and ones\n",
    "zeros = np.zeros((3, 3))\n",
    "ones = np.ones((3, 3))\n",
    "\n",
    "# Create an identity matrix\n",
    "identity = np.eye(3)\n",
    "\n",
    "# Reshape an array\n",
    "reshaped = np.reshape(a, (1, 3))\n",
    "\n",
    "print(f\"zeros:\\n{zeros}\\nones:\\n{ones}\\nidentity:\\n{identity}\\nreshaped:\\n{reshaped}\")\n"
   ]
  },
  {
   "cell_type": "markdown",
   "id": "aef8cc7d",
   "metadata": {},
   "source": [
    "\n",
    "## Indexing and Slicing\n",
    "NumPy arrays can be indexed and sliced similarly to Python lists.\n"
   ]
  },
  {
   "cell_type": "code",
   "execution_count": null,
   "id": "5c74406c",
   "metadata": {},
   "outputs": [],
   "source": [
    "\n",
    "# Create a 2D array\n",
    "array = np.array([[1, 2, 3], [4, 5, 6], [7, 8, 9]])\n",
    "\n",
    "# Indexing\n",
    "element = array[1, 2]\n",
    "\n",
    "# Slicing\n",
    "sub_array = array[:2, 1:]\n",
    "\n",
    "print(f\"element: {element}\\nsub_array:\\n{sub_array}\")\n"
   ]
  },
  {
   "cell_type": "markdown",
   "id": "00a297ad",
   "metadata": {},
   "source": [
    "\n",
    "## Mathematical Operations\n",
    "NumPy supports a variety of mathematical operations on arrays.\n"
   ]
  },
  {
   "cell_type": "code",
   "execution_count": null,
   "id": "5c68c4e4",
   "metadata": {},
   "outputs": [],
   "source": [
    "\n",
    "# Create an array\n",
    "a = np.array([1, 2, 3])\n",
    "\n",
    "# Perform mathematical operations\n",
    "sqrt_a = np.sqrt(a)\n",
    "exp_a = np.exp(a)\n",
    "log_a = np.log(a)\n",
    "\n",
    "print(f\"sqrt: {sqrt_a}, exp: {exp_a}, log: {log_a}\")\n"
   ]
  },
  {
   "cell_type": "markdown",
   "id": "6c662db7",
   "metadata": {},
   "source": [
    "\n",
    "## Statistical Operations\n",
    "NumPy provides functions for statistical operations, such as mean, median, and standard deviation.\n"
   ]
  },
  {
   "cell_type": "code",
   "execution_count": null,
   "id": "ae16d687",
   "metadata": {},
   "outputs": [],
   "source": [
    "\n",
    "# Create an array\n",
    "a = np.array([1, 2, 3, 4, 5])\n",
    "\n",
    "# Perform statistical operations\n",
    "mean_a = np.mean(a)\n",
    "median_a = np.median(a)\n",
    "std_a = np.std(a)\n",
    "\n",
    "print(f\"mean: {mean_a}, median: {median_a}, std: {std_a}\")\n"
   ]
  },
  {
   "cell_type": "markdown",
   "id": "4d59d6cb",
   "metadata": {},
   "source": [
    "\n",
    "## Broadcasting\n",
    "Broadcasting allows NumPy to perform arithmetic operations on arrays of different shapes.\n"
   ]
  },
  {
   "cell_type": "code",
   "execution_count": null,
   "id": "7eae8891",
   "metadata": {},
   "outputs": [],
   "source": [
    "\n",
    "# Create arrays\n",
    "a = np.array([1, 2, 3])\n",
    "b = np.array([[1], [2], [3]])\n",
    "\n",
    "# Perform broadcasting\n",
    "broadcasted_sum = a + b\n",
    "\n",
    "print(f\"broadcasted_sum:\\n{broadcasted_sum}\")\n"
   ]
  },
  {
   "cell_type": "markdown",
   "id": "85ea52e7",
   "metadata": {},
   "source": [
    "\n",
    "## Linear Algebra Operations\n",
    "NumPy includes functions for linear algebra operations, such as dot product, matrix multiplication, and eigenvalues.\n"
   ]
  },
  {
   "cell_type": "code",
   "execution_count": null,
   "id": "d3cd79e6",
   "metadata": {},
   "outputs": [],
   "source": [
    "\n",
    "# Create matrices\n",
    "a = np.array([[1, 2], [3, 4]])\n",
    "b = np.array([[5, 6], [7, 8]])\n",
    "\n",
    "# Perform linear algebra operations\n",
    "dot_product = np.dot(a, b)\n",
    "matrix_product = np.matmul(a, b)\n",
    "eigenvalues, eigenvectors = np.linalg.eig(a)\n",
    "\n",
    "print(f\"dot_product:\\n{dot_product}\\nmatrix_product:\\n{matrix_product}\\neigenvalues: {eigenvalues}\\neigenvectors:\\n{eigenvectors}\")\n"
   ]
  }
 ],
 "metadata": {},
 "nbformat": 4,
 "nbformat_minor": 5
}
