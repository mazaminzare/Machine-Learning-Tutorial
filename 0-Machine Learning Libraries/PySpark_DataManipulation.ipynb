{
  "nbformat": 4,
  "nbformat_minor": 0,
  "metadata": {
    "colab": {
      "provenance": []
    },
    "kernelspec": {
      "name": "python3",
      "display_name": "Python 3"
    },
    "language_info": {
      "name": "python"
    }
  },
  "cells": [
    {
      "cell_type": "code",
      "source": [
        "!pip install pyspark"
      ],
      "metadata": {
        "colab": {
          "base_uri": "https://localhost:8080/"
        },
        "id": "K_vm0Dhw-N0N",
        "outputId": "3847c927-b3e2-4fc3-d026-20bd8d5edf28"
      },
      "execution_count": 27,
      "outputs": [
        {
          "output_type": "stream",
          "name": "stdout",
          "text": [
            "Requirement already satisfied: pyspark in /usr/local/lib/python3.10/dist-packages (3.5.1)\n",
            "Requirement already satisfied: py4j==0.10.9.7 in /usr/local/lib/python3.10/dist-packages (from pyspark) (0.10.9.7)\n"
          ]
        }
      ]
    },
    {
      "cell_type": "code",
      "source": [
        "from pyspark.sql import SparkSession\n",
        "from pyspark import SparkContext, SparkConf\n",
        "\n",
        "# Create a SparkSession\n",
        "spark = SparkSession.builder \\\n",
        "    .appName(\"SparkTutorial\") \\\n",
        "    .getOrCreate()"
      ],
      "metadata": {
        "id": "mHXBeXNf-pxl"
      },
      "execution_count": 28,
      "outputs": []
    },
    {
      "cell_type": "code",
      "execution_count": 29,
      "metadata": {
        "id": "DuTzw9Iduzqh",
        "colab": {
          "base_uri": "https://localhost:8080/"
        },
        "outputId": "cf6ceb29-75da-40e7-969a-b5659452c2f9"
      },
      "outputs": [
        {
          "output_type": "stream",
          "name": "stdout",
          "text": [
            "Data: [1, 2, 3, 4, 5, 6, 7, 8, 9, 10]\n",
            "Even Numbers: [2, 4, 6, 8, 10]\n",
            "Odd Numbers: [1, 3, 5, 7, 9]\n",
            "Sum of all numbers: 55\n"
          ]
        }
      ],
      "source": [
        "# Create an RDD\n",
        "data = [1, 2, 3, 4, 5, 6, 7, 8, 9, 10]\n",
        "rdd = spark.sparkContext.parallelize(data)\n",
        "\n",
        "# Filter: Get only even numbers\n",
        "even_rdd = rdd.filter(lambda x: x % 2 == 0)\n",
        "\n",
        "# Filter: Get only odd numbers\n",
        "odd_rdd = rdd.filter(lambda x: x % 2 != 0)\n",
        "\n",
        "# Reduce: Sum all elements\n",
        "sum_result = rdd.reduce(lambda a, b: a + b)\n",
        "\n",
        "# Collect results\n",
        "even_numbers = even_rdd.collect()\n",
        "odd_numbers = odd_rdd.collect()\n",
        "print(f'Data: {data}')\n",
        "print(\"Even Numbers:\", even_numbers)\n",
        "print(\"Odd Numbers:\", odd_numbers)\n",
        "print(\"Sum of all numbers:\", sum_result)\n"
      ]
    },
    {
      "cell_type": "code",
      "source": [
        "# Create DataFrame from a list of tuples\n",
        "data = [(\"Alice\", 34), (\"Bob\", 45), (\"Catherine\", 29)]\n",
        "columns = [\"Name\", \"Age\"]\n",
        "df = spark.createDataFrame(data, columns)\n",
        "df.show()\n",
        "\n",
        "# Create DataFrame from a dictionary\n",
        "data_dict = [{\"Name\": \"Alice\", \"Age\": 34}, {\"Name\": \"Bob\", \"Age\": 45}, {\"Name\": \"Catherine\", \"Age\": 29}]\n",
        "df_dict = spark.createDataFrame(data_dict)\n",
        "df_dict.show()\n",
        "\n",
        "# Load DataFrame from a CSV file\n",
        "# df_csv = spark.read.csv(\"file.csv\", header=True, inferSchema=True)\n",
        "# df_csv.show()\n"
      ],
      "metadata": {
        "colab": {
          "base_uri": "https://localhost:8080/"
        },
        "id": "pR2AGpC9-JLk",
        "outputId": "9fb32b86-69c9-4d10-fcc4-d6c1ad641cc1"
      },
      "execution_count": 30,
      "outputs": [
        {
          "output_type": "stream",
          "name": "stdout",
          "text": [
            "+---------+---+\n",
            "|     Name|Age|\n",
            "+---------+---+\n",
            "|    Alice| 34|\n",
            "|      Bob| 45|\n",
            "|Catherine| 29|\n",
            "+---------+---+\n",
            "\n",
            "+---+---------+\n",
            "|Age|     Name|\n",
            "+---+---------+\n",
            "| 34|    Alice|\n",
            "| 45|      Bob|\n",
            "| 29|Catherine|\n",
            "+---+---------+\n",
            "\n"
          ]
        }
      ]
    },
    {
      "cell_type": "code",
      "source": [
        "# Select specific columns\n",
        "df.select(\"Name\", \"Age\").show()\n",
        "\n",
        "# Filter rows\n",
        "df.filter(df.Age > 30).show()\n",
        "\n",
        "# Group by and aggregate\n",
        "df.groupBy(\"Age\").count().show()\n",
        "\n",
        "# Add new column\n",
        "df.withColumn(\"Age in 5 years\", df.Age + 5).show()\n"
      ],
      "metadata": {
        "colab": {
          "base_uri": "https://localhost:8080/"
        },
        "id": "XIxdF55w-Kqc",
        "outputId": "2fcf2fef-8413-4ad8-f583-7151bafd72e4"
      },
      "execution_count": 31,
      "outputs": [
        {
          "output_type": "stream",
          "name": "stdout",
          "text": [
            "+---------+---+\n",
            "|     Name|Age|\n",
            "+---------+---+\n",
            "|    Alice| 34|\n",
            "|      Bob| 45|\n",
            "|Catherine| 29|\n",
            "+---------+---+\n",
            "\n",
            "+-----+---+\n",
            "| Name|Age|\n",
            "+-----+---+\n",
            "|Alice| 34|\n",
            "|  Bob| 45|\n",
            "+-----+---+\n",
            "\n",
            "+---+-----+\n",
            "|Age|count|\n",
            "+---+-----+\n",
            "| 34|    1|\n",
            "| 29|    1|\n",
            "| 45|    1|\n",
            "+---+-----+\n",
            "\n",
            "+---------+---+--------------+\n",
            "|     Name|Age|Age in 5 years|\n",
            "+---------+---+--------------+\n",
            "|    Alice| 34|            39|\n",
            "|      Bob| 45|            50|\n",
            "|Catherine| 29|            34|\n",
            "+---------+---+--------------+\n",
            "\n"
          ]
        }
      ]
    },
    {
      "cell_type": "code",
      "source": [
        "# Register the DataFrame as a SQL temporary view\n",
        "df.createOrReplaceTempView(\"people\")\n",
        "\n",
        "# Run SQL queries\n",
        "sql_df = spark.sql(\"SELECT Name, Age FROM people WHERE Age > 30\")\n",
        "sql_df.show()\n",
        "\n",
        "# Join DataFrames using SQL\n",
        "data2 = [(\"Alice\", \"HR\"), (\"Bob\", \"Engineering\"), (\"Catherine\", \"Marketing\")]\n",
        "columns2 = [\"Name\", \"Department\"]\n",
        "df2 = spark.createDataFrame(data2, columns2)\n",
        "df2.createOrReplaceTempView(\"departments\")\n",
        "\n",
        "join_df = spark.sql(\"SELECT p.Name, p.Age, d.Department FROM people p JOIN departments d ON p.Name = d.Name\")\n",
        "join_df.show()\n"
      ],
      "metadata": {
        "colab": {
          "base_uri": "https://localhost:8080/"
        },
        "id": "jJSws84R-L0U",
        "outputId": "b85fcc60-04d1-431a-dba3-d7e378066e22"
      },
      "execution_count": 32,
      "outputs": [
        {
          "output_type": "stream",
          "name": "stdout",
          "text": [
            "+-----+---+\n",
            "| Name|Age|\n",
            "+-----+---+\n",
            "|Alice| 34|\n",
            "|  Bob| 45|\n",
            "+-----+---+\n",
            "\n",
            "+---------+---+-----------+\n",
            "|     Name|Age| Department|\n",
            "+---------+---+-----------+\n",
            "|    Alice| 34|         HR|\n",
            "|      Bob| 45|Engineering|\n",
            "|Catherine| 29|  Marketing|\n",
            "+---------+---+-----------+\n",
            "\n"
          ]
        }
      ]
    }
  ]
}