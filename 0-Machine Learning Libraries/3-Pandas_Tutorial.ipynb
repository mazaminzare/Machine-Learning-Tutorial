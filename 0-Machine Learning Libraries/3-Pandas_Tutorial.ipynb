{
 "cells": [
  {
   "cell_type": "markdown",
   "id": "0189fa96",
   "metadata": {},
   "source": [
    "## 1. Installation\n",
    "Ensure you have Python installed. You can install Pandas with the following command:\n",
    "```bash\n",
    "pip install pandas\n",
    "```"
   ]
  },
  {
   "cell_type": "code",
   "execution_count": null,
   "id": "64862ba0",
   "metadata": {},
   "outputs": [],
   "source": [
    "import pandas as pd\n",
    "import numpy as np"
   ]
  },
  {
   "cell_type": "markdown",
   "id": "b50618db",
   "metadata": {},
   "source": [
    "## 2. Basic Operations"
   ]
  },
  {
   "cell_type": "code",
   "execution_count": null,
   "id": "c12fb26f",
   "metadata": {},
   "outputs": [],
   "source": [
    "# Creating a DataFrame\n",
    "data = {'Name': ['John', 'Anna', 'Peter', 'Linda'],\n",
    "        'Age': [28, 22, 34, 42],\n",
    "        'City': ['New York', 'Paris', 'Berlin', 'London']}\n",
    "df = pd.DataFrame(data)\n",
    "\n",
    "# Display the DataFrame\n",
    "print(df)"
   ]
  },
  {
   "cell_type": "markdown",
   "id": "f1120423",
   "metadata": {},
   "source": [
    "## 3. Data Manipulation"
   ]
  },
  {
   "cell_type": "code",
   "execution_count": null,
   "id": "0e1c2955",
   "metadata": {},
   "outputs": [],
   "source": [
    "# Adding a new column\n",
    "df['Salary'] = [50000, 48000, 54000, 62000]\n",
    "\n",
    "# Filtering data\n",
    "young_professionals = df[df['Age'] < 35]\n",
    "\n",
    "# Display the filtered data\n",
    "print(young_professionals)"
   ]
  },
  {
   "cell_type": "markdown",
   "id": "d0f15f2c",
   "metadata": {},
   "source": [
    "## 4. Data Aggregation"
   ]
  },
  {
   "cell_type": "code",
   "execution_count": null,
   "id": "c899ea58",
   "metadata": {},
   "outputs": [],
   "source": [
    "# Grouping data\n",
    "grouped = df.groupby('City').mean()\n",
    "\n",
    "# Display the grouped data\n",
    "print(grouped)"
   ]
  },
  {
   "cell_type": "markdown",
   "id": "816e536f",
   "metadata": {},
   "source": [
    "## 5. Importing and Exporting Data"
   ]
  },
  {
   "cell_type": "code",
   "execution_count": null,
   "id": "7790ba96",
   "metadata": {},
   "outputs": [],
   "source": [
    "# Importing data from a CSV file\n",
    "df_from_csv = pd.read_csv('data.csv')\n",
    "\n",
    "# Exporting data to a CSV file\n",
    "df.to_csv('output.csv')"
   ]
  },
  {
   "cell_type": "markdown",
   "id": "74d6c71e",
   "metadata": {},
   "source": [
    "## 6. Advanced Data Manipulation"
   ]
  },
  {
   "cell_type": "code",
   "execution_count": null,
   "id": "4401c6b1",
   "metadata": {},
   "outputs": [],
   "source": [
    "# Applying a custom function to a column\n",
    "df['Age_squared'] = df['Age'].apply(lambda x: x**2)\n",
    "\n",
    "# Merging DataFrames\n",
    "other_data = pd.DataFrame({'Name': ['John', 'Anna', 'Peter', 'Linda'],\n",
    "                           'Hobby': ['Reading', 'Dancing', 'Cycling', 'Painting']})\n",
    "df_merged = pd.merge(df, other_data, on='Name')\n",
    "\n",
    "# Display the merged DataFrame\n",
    "print(df_merged)"
   ]
  },
  {
   "cell_type": "markdown",
   "id": "458563bb",
   "metadata": {},
   "source": [
    "## 7. Custom Functions"
   ]
  },
  {
   "cell_type": "code",
   "execution_count": null,
   "id": "411f2478",
   "metadata": {},
   "outputs": [],
   "source": [
    "# Custom function to calculate the average age\n",
    "def average_age(df):\n",
    "    return df['Age'].mean()\n",
    "\n",
    "# Usage of the custom function\n",
    "avg_age = average_age(df)\n",
    "print(f'The average age is: {avg_age}')"
   ]
  }
 ],
 "metadata": {},
 "nbformat": 4,
 "nbformat_minor": 5
}
