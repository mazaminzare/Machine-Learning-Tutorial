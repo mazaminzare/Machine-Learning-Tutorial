{
 "cells": [
  {
   "cell_type": "markdown",
   "id": "b73062c6",
   "metadata": {},
   "source": [
    "## 1. Installation\n",
    "Ensure you have Python installed. You can install Scikit-learn with the following command:\n",
    "```bash\n",
    "pip install scikit-learn\n",
    "```"
   ]
  },
  {
   "cell_type": "code",
   "execution_count": null,
   "id": "598bc8da",
   "metadata": {},
   "outputs": [],
   "source": [
    "import numpy as np\n",
    "import pandas as pd\n",
    "from sklearn.model_selection import train_test_split\n",
    "from sklearn.preprocessing import StandardScaler\n",
    "from sklearn.linear_model import LogisticRegression\n",
    "from sklearn.metrics import accuracy_score"
   ]
  },
  {
   "cell_type": "markdown",
   "id": "4be6eb45",
   "metadata": {},
   "source": [
    "## 2. Data Loading and Preprocessing"
   ]
  },
  {
   "cell_type": "code",
   "execution_count": null,
   "id": "1193ca17",
   "metadata": {},
   "outputs": [],
   "source": [
    "# Load dataset\n",
    "data = pd.read_csv('data.csv')\n",
    "X = data.drop('target', axis=1)\n",
    "y = data['target']\n",
    "\n",
    "# Split the dataset into train and test sets\n",
    "X_train, X_test, y_train, y_test = train_test_split(X, y, test_size=0.2, random_state=42)\n",
    "\n",
    "# Standardize the features\n",
    "scaler = StandardScaler()\n",
    "X_train_scaled = scaler.fit_transform(X_train)\n",
    "X_test_scaled = scaler.transform(X_test)"
   ]
  },
  {
   "cell_type": "markdown",
   "id": "bea3b04c",
   "metadata": {},
   "source": [
    "## 3. Building and Training the Model"
   ]
  },
  {
   "cell_type": "code",
   "execution_count": null,
   "id": "40579bcb",
   "metadata": {},
   "outputs": [],
   "source": [
    "# Initialize and train a logistic regression model\n",
    "model = LogisticRegression()\n",
    "model.fit(X_train_scaled, y_train)"
   ]
  },
  {
   "cell_type": "markdown",
   "id": "eedc6cb8",
   "metadata": {},
   "source": [
    "## 4. Evaluation"
   ]
  },
  {
   "cell_type": "code",
   "execution_count": null,
   "id": "9c429b69",
   "metadata": {},
   "outputs": [],
   "source": [
    "# Evaluate the model\n",
    "predictions = model.predict(X_test_scaled)\n",
    "accuracy = accuracy_score(y_test, predictions)\n",
    "print(f'Accuracy: {accuracy * 100}%')"
   ]
  },
  {
   "cell_type": "markdown",
   "id": "bc4d65a8",
   "metadata": {},
   "source": [
    "## 5. Saving and Loading Models"
   ]
  },
  {
   "cell_type": "code",
   "execution_count": null,
   "id": "27644152",
   "metadata": {},
   "outputs": [],
   "source": [
    "# Save the model\n",
    "from joblib import dump, load\n",
    "dump(model, 'logistic_model.joblib')\n",
    "\n",
    "# Load the model\n",
    "loaded_model = load('logistic_model.joblib')"
   ]
  },
  {
   "cell_type": "markdown",
   "id": "a3abd227",
   "metadata": {},
   "source": [
    "## 6. Custom Training and Testing Phases"
   ]
  },
  {
   "cell_type": "code",
   "execution_count": null,
   "id": "0cf50172",
   "metadata": {},
   "outputs": [],
   "source": [
    "# Custom training function\n",
    "def custom_train_model(X_train, y_train, X_val, y_val):\n",
    "    model = LogisticRegression()\n",
    "    model.fit(X_train, y_train)\n",
    "    val_predictions = model.predict(X_val)\n",
    "    val_accuracy = accuracy_score(y_val, val_predictions)\n",
    "    print(f'Validation Accuracy: {val_accuracy * 100}%')\n",
    "    return model\n",
    "\n",
    "# Custom testing function\n",
    "def custom_test_model(model, X_test, y_test):\n",
    "    test_predictions = model.predict(X_test)\n",
    "    test_accuracy = accuracy_score(y_test, test_predictions)\n",
    "    print(f'Test Accuracy: {test_accuracy * 100}%')\n",
    "\n",
    "# Example usage\n",
    "X_train, X_val, y_train, y_val = train_test_split(X_train_scaled, y_train, test_size=0.25, random_state=42)\n",
    "model = custom_train_model(X_train, y_train, X_val, y_val)\n",
    "custom_test_model(model, X_test_scaled, y_test)"
   ]
  }
 ],
 "metadata": {},
 "nbformat": 4,
 "nbformat_minor": 5
}
