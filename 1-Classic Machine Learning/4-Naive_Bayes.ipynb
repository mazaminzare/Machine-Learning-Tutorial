{
  "nbformat": 4,
  "nbformat_minor": 0,
  "metadata": {
    "colab": {
      "provenance": []
    },
    "kernelspec": {
      "name": "python3",
      "display_name": "Python 3"
    },
    "language_info": {
      "name": "python"
    }
  },
  "cells": [
    {
      "cell_type": "markdown",
      "source": [
        "## In-Depth Tutorial on Naive Bayes\n",
        "\n",
        "### Mathematical Background\n",
        "\n",
        "Naive Bayes classifiers are based on Bayes' Theorem, which uses probability to predict the class of unknown data points. Bayes' Theorem is stated mathematically as follows:\n",
        "\n",
        "$$\n",
        "P(C_k \\mid x) = \\frac{P(x \\mid C_k) \\cdot P(C_k)}{P(x)}\n",
        "$$\n",
        "\n",
        "Where:\n",
        "- $P(C_k \\mid x)$ is the posterior probability of class $C_k$ given predictor(s) $x$.\n",
        "- $P(C_k)$ is the prior probability of class $C_k$.\n",
        "- $P(x \\mid C_k)$ is the likelihood, which is the probability of predictor $x$ given class $C_k$.\n",
        "- $P(x)$ is the prior probability of predictor $x$.\n",
        "\n",
        "The Naive Bayes classifier assumes that the effect of a particular feature in a class is independent of other features. This is what is meant by the term \"naive.\"\n",
        "\n",
        "### Numerical Example\n",
        "\n",
        "Suppose we have a dataset with weather conditions and we want to predict whether the weather is suitable for playing tennis.\n",
        "\n",
        "**Dataset**:\n",
        "\n",
        "| Outlook  | Windy | Play Tennis |\n",
        "|----------|-------|-------------|\n",
        "| Sunny    | False | No          |\n",
        "| Overcast | True  | Yes         |\n",
        "| Rainy    | False | Yes         |\n",
        "\n",
        "1. Calculate prior probabilities:\n",
        "   - $P(Yes) = \\frac{\\text{Number of days with 'Yes'}}{\\text{Total number of days}}$\n",
        "   - $P(No) = \\frac{\\text{Number of days with 'No'}}{\\text{Total number of days}}$\n",
        "\n",
        "2. Calculate likelihood:\n",
        "   - $P(Sunny \\mid No)$, $P(Overcast \\mid Yes)$, etc.\n",
        "\n",
        "3. Apply Bayes' Theorem for prediction.\n",
        "\n"
      ],
      "metadata": {
        "id": "oPse-h8dCLU7"
      }
    },
    {
      "cell_type": "markdown",
      "source": [
        "## Handling Zero Probability with Laplace Smoothing in Naive Bayes\n",
        "\n",
        "### Introduction to Laplace Smoothing\n",
        "Laplace Smoothing, or additive smoothing, is a technique used to handle the problem of zero probability in categorical data analysis, especially in Bayesian classification methods like Naive Bayes. This approach helps avoid the problem where the absence of certain feature-class combinations in the training data leads to zero probability estimates, which can disrupt model predictions.\n",
        "\n",
        "### Mathematical Concept\n",
        "In Naive Bayes, the likelihood $P(x_i \\mid C_k)$ is calculated as the probability of feature $x_i$ given class $C_k$. To prevent zero probabilities, Laplace Smoothing modifies the likelihood calculation as follows:\n",
        "\n",
        "$$\n",
        "P(x_i \\mid C_k) = \\frac{N_{x_i, C_k} + \\alpha}{N_{C_k} + \\alpha \\cdot d}\n",
        "$$\n",
        "\n",
        "Where:\n",
        "- $N_{x_i, C_k}$ is the number of times feature $x_i$ appears in samples from class $C_k$.\n",
        "- $N_{C_k}$ is the total count of all samples in class $C_k$.\n",
        "- $\\alpha$ is the smoothing parameter (usually set to 1).\n",
        "- $d$ is the number of distinct values that feature $x_i$ can take.\n",
        "\n",
        "### Numerical Example\n",
        "Suppose we are building a spam classifier and our dataset involves observing the words \"free\" and \"win\" in emails, classified as spam or not spam. Consider a scenario where the word \"win\" has never appeared in a 'not spam' email in the training data.\n",
        "\n",
        "**Training Data:**\n",
        "\n",
        "| Email Text     | Is Spam |\n",
        "|----------------|---------|\n",
        "| win a prize    | Yes     |\n",
        "| free vacation  | Yes     |\n",
        "| free money     | Yes     |\n",
        "| nice day       | No      |\n",
        "| good morning   | No      |\n",
        "\n",
        "**Calculation without Smoothing:**\n",
        "\n",
        "- $P(\\text{\"win\"} \\mid \\text{Spam})$ might be non-zero.\n",
        "- $P(\\text{\"win\"} \\mid \\text{Not Spam})$ would be zero.\n",
        "\n",
        "**Applying Laplace Smoothing:**\n",
        "\n",
        "Let's calculate $P(\\text{\"win\"} \\mid \\text{Not Spam})$ with $\\alpha = 1$ and $d = 2$ (since there are two distinct words considered).\n",
        "\n",
        "$$\n",
        "P(\\text{\"win\"} \\mid \\text{Not Spam}) = \\frac{0 + 1}{4 + 2 \\cdot 1} = \\frac{1}{6}\n",
        "$$\n",
        "\n",
        "This adjustment prevents the probability from being zero and allows the classifier to handle new or rare occurrences more gracefully.\n",
        "\n",
        "### Conclusion\n",
        "Laplace Smoothing is essential for ensuring robustness in Naive Bayes classifiers, particularly in scenarios like text classification where the vocabulary may introduce unseen words in new documents. This method effectively addresses the zero-frequency problem by assuming a prior probability for unseen events.\n"
      ],
      "metadata": {
        "id": "dAUbhTDODFnK"
      }
    },
    {
      "cell_type": "markdown",
      "source": [
        "## Naive Bayes: Assumptions, Advantages, and Disadvantages\n",
        "\n",
        "### Assumptions Behind Naive Bayes\n",
        "Naive Bayes classifier relies on several crucial assumptions:\n",
        "- **Conditional Independence**: Assumes that features are independent of each other, given the class label.\n",
        "- **Feature Relevance**: Assumes all features are equally relevant to the outcome.\n",
        "- **Prior Knowledge**: The model requires prior probabilities of classes (based on previous knowledge or determined from the training data).\n",
        "\n",
        "### Advantages of Naive Bayes\n",
        "Naive Bayes offers several compelling benefits:\n",
        "- **Efficiency**: Extremely efficient in terms of computational resources and time, making it suitable for large datasets.\n",
        "- **Ease of Implementation**: Straightforward to implement and understand.\n",
        "- **Performance**: Often performs well in many scenarios, especially in document classification and spam filtering.\n",
        "- **Scalability**: Handles an increasing amount of data smoothly.\n",
        "- **Good Estimator**: Provides reasonable probability estimates for prediction.\n",
        "\n",
        "### Disadvantages and Drawbacks of Naive Bayes\n",
        "Despite its advantages, Naive Bayes has notable limitations:\n",
        "- **Feature Independence Assumption**: This can be a major drawback if features are correlated, which is often the case in real-world data.\n",
        "- **Data Scarcity**: The probability estimates from Naive Bayes can be skewed if the data set is small, leading to zero-frequency problems.\n",
        "- **Biased Estimates**: Naive Bayes’ estimators can be biased if the categorical variables have a category in the test data set, which was not observed in the training data set.\n",
        "\n",
        "### Conclusion\n",
        "Naive Bayes remains a popular choice for classification tasks where computational efficiency and simplicity are prioritized over exact precision, particularly in text classification tasks. Understanding these aspects helps leverage its strengths while being aware of situations where it may underperform.\n",
        "\n"
      ],
      "metadata": {
        "id": "7SuKLj_PDvs2"
      }
    },
    {
      "cell_type": "code",
      "execution_count": 3,
      "metadata": {
        "colab": {
          "base_uri": "https://localhost:8080/",
          "height": 469
        },
        "id": "U_QK9W8LCKHc",
        "outputId": "01ee6721-66fc-4d03-ece6-4baa1a11e805"
      },
      "outputs": [
        {
          "output_type": "stream",
          "name": "stdout",
          "text": [
            "Accuracy without smoothing: 0.8195488721804511\n"
          ]
        },
        {
          "output_type": "display_data",
          "data": {
            "text/plain": [
              "<Figure size 640x480 with 1 Axes>"
            ],
            "image/png": "[encoded data removed]"
          },
          "metadata": {}
        }
      ],
      "source": [
        "import numpy as np\n",
        "import matplotlib.pyplot as plt\n",
        "from sklearn.model_selection import train_test_split\n",
        "from sklearn.naive_bayes import GaussianNB\n",
        "from sklearn.datasets import load_diabetes\n",
        "from sklearn.metrics import accuracy_score\n",
        "\n",
        "# Load data\n",
        "data = load_diabetes()\n",
        "X = data.data\n",
        "y = (data.target > 140).astype(int)  # Convert to binary classification problem\n",
        "\n",
        "# Split the data into training and test sets\n",
        "X_train, X_test, y_train, y_test = train_test_split(X, y, test_size=0.3, random_state=42)\n",
        "\n",
        "# Training Gaussian Naive Bayes model\n",
        "model = GaussianNB()\n",
        "model.fit(X_train, y_train)\n",
        "y_pred = model.predict(X_test)\n",
        "print(f\"Accuracy without smoothing: {accuracy_score(y_test, y_pred)}\")\n",
        "\n",
        "# Laplace Smoothing is typically included in categorical models like MultinomialNB, but here we use GaussianNB for illustration\n",
        "# For a real application of smoothing, you would modify probability calculations in a custom implementation or use a categorical model\n",
        "\n",
        "# Probabilities visualization\n",
        "prob_no_smoothing = model.predict_proba(X_test[:5])\n",
        "\n",
        "# Plotting function for probabilities\n",
        "def plot_probabilities(probs, title):\n",
        "    fig, ax = plt.subplots()\n",
        "    for i, prob in enumerate(probs):\n",
        "        ax.bar(i * 2, prob[0], label='No Diabetes' if i == 0 else \"\", color='b')\n",
        "        ax.bar(i * 2 + 0.5, prob[1], label='Diabetes' if i == 0 else \"\", color='r')\n",
        "    ax.set_title(title)\n",
        "    ax.set_ylabel('Probability')\n",
        "    ax.set_xticks([i * 2 + 0.25 for i in range(5)])\n",
        "    ax.set_xticklabels([f'Patient {i+1}' for i in range(5)])\n",
        "    ax.legend()\n",
        "\n",
        "plot_probabilities(prob_no_smoothing, 'Predicted Probabilities Without Laplace Smoothing')\n",
        "plt.show()\n"
      ]
    },
    {
      "cell_type": "code",
      "source": [
        "import numpy as np\n",
        "import matplotlib.pyplot as plt\n",
        "from sklearn.model_selection import train_test_split\n",
        "from sklearn.naive_bayes import CategoricalNB\n",
        "from sklearn.metrics import accuracy_score\n",
        "from sklearn.preprocessing import LabelEncoder\n",
        "from sklearn.datasets import fetch_openml\n",
        "\n",
        "# Load data from OpenML\n",
        "data = fetch_openml(name='nursery', version=1, as_frame=True)\n",
        "X, y = data.data, data.target\n",
        "\n",
        "# Encode categorical data\n",
        "le = LabelEncoder()\n",
        "y_encoded = le.fit_transform(y)\n",
        "X_encoded = X.apply(LabelEncoder().fit_transform)\n",
        "\n",
        "# Split the data into training and test sets\n",
        "X_train, X_test, y_train, y_test = train_test_split(X_encoded, y_encoded, test_size=0.3, random_state=42)\n",
        "\n",
        "# Training Categorical Naive Bayes model with Laplace Smoothing\n",
        "model = CategoricalNB(alpha=1.0)  # Using alpha=1.0 for Laplace Smoothing\n",
        "model.fit(X_train, y_train)\n",
        "y_pred = model.predict(X_test)\n",
        "\n",
        "# Calculate accuracy\n",
        "accuracy = accuracy_score(y_test, y_pred)\n",
        "print(f\"Accuracy with Laplace Smoothing: {accuracy}\")\n",
        "\n",
        "# Predict probabilities for a subset of test data\n",
        "probabilities = model.predict_proba(X_test[:10])\n",
        "\n",
        "print(f\"Probabilities: {probabilities}\")"
      ],
      "metadata": {
        "colab": {
          "base_uri": "https://localhost:8080/"
        },
        "id": "ZzLAtnsMJrRh",
        "outputId": "c6af317d-c6ee-414a-eaef-94ccfd0be465"
      },
      "execution_count": 13,
      "outputs": [
        {
          "output_type": "stream",
          "name": "stderr",
          "text": [
            "/usr/local/lib/python3.10/dist-packages/sklearn/datasets/_openml.py:968: FutureWarning: The default value of `parser` will change from `'liac-arff'` to `'auto'` in 1.4. You can set `parser='auto'` to silence this warning. Therefore, an `ImportError` will be raised from 1.4 if the dataset is dense and pandas is not installed. Note that the pandas parser may return different data types. See the Notes Section in fetch_openml's API doc for details.\n",
            "  warn(\n"
          ]
        },
        {
          "output_type": "stream",
          "name": "stdout",
          "text": [
            "Accuracy with Laplace Smoothing: 0.9025205761316872\n",
            "Probabilities: [[9.99243339e-01 3.20033917e-04 4.35024415e-04 1.60225666e-06]\n",
            " [3.44380999e-04 6.06677406e-01 3.92670805e-01 3.07407762e-04]\n",
            " [3.68283249e-04 8.64282407e-01 1.35331688e-01 1.76213247e-05]\n",
            " [1.51917485e-04 2.49998400e-02 9.74848237e-01 5.01554518e-09]\n",
            " [9.99135201e-01 5.12172983e-04 1.57968073e-04 1.94657752e-04]\n",
            " [3.20701554e-04 6.77667158e-01 2.81904201e-01 4.01079391e-02]\n",
            " [9.99426576e-01 9.69059575e-05 4.71743795e-04 4.77432843e-06]\n",
            " [4.41258960e-04 6.97755518e-01 2.87894769e-01 1.39084540e-02]\n",
            " [3.39583505e-04 6.36222879e-01 3.42574654e-01 2.08628834e-02]\n",
            " [3.25920247e-04 9.07902387e-01 8.82604383e-02 3.51125462e-03]]\n"
          ]
        }
      ]
    }
  ]
}