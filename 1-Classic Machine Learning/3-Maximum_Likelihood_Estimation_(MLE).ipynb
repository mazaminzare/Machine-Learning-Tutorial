{
  "nbformat": 4,
  "nbformat_minor": 0,
  "metadata": {
    "colab": {
      "provenance": []
    },
    "kernelspec": {
      "name": "python3",
      "display_name": "Python 3"
    },
    "language_info": {
      "name": "python"
    }
  },
  "cells": [
    {
      "cell_type": "code",
      "source": [
        "'''\n",
        "Step-by-Step Implementation:\n",
        "1-Load and Preprocess the Data\n",
        "2-Define Logistic Function and Log-Likelihood\n",
        "3-Compute Gradient and Perform Gradient Ascent\n",
        "4-Train the Model\n",
        "5-Evaluate the Model\n",
        "'''"
      ],
      "metadata": {
        "id": "1E9sMu809C1i"
      },
      "execution_count": null,
      "outputs": []
    },
    {
      "cell_type": "code",
      "source": [
        "# Load packages\n",
        "import numpy as np\n",
        "import pandas as pd\n",
        "from sklearn.datasets import load_iris\n",
        "from sklearn.model_selection import train_test_split\n",
        "from sklearn.preprocessing import StandardScaler\n",
        "import matplotlib.pyplot as plt\n",
        "# Confusion matrix\n",
        "from sklearn.metrics import confusion_matrix, classification_report"
      ],
      "metadata": {
        "id": "HV_KCmFQ8Znb"
      },
      "execution_count": 5,
      "outputs": []
    },
    {
      "cell_type": "code",
      "source": [
        "# Load the Iris dataset\n",
        "iris = load_iris()\n",
        "X = iris.data\n",
        "y = iris.target\n",
        "\n",
        "# We will use only two classes (binary classification)\n",
        "binary_classes = y < 2\n",
        "X = X[binary_classes]\n",
        "y = y[binary_classes]\n",
        "\n",
        "# Split the dataset into training and test sets\n",
        "X_train, X_test, y_train, y_test = train_test_split(X, y, test_size=0.2, random_state=0)\n",
        "\n",
        "# Standardize the features\n",
        "scaler = StandardScaler()\n",
        "X_train = scaler.fit_transform(X_train)\n",
        "X_test = scaler.transform(X_test)\n",
        "# Add intercept term to X_train and X_test\n",
        "X_train = np.hstack((np.ones((X_train.shape[0], 1)), X_train))\n",
        "X_test = np.hstack((np.ones((X_test.shape[0], 1)), X_test))"
      ],
      "metadata": {
        "id": "MOUlr2Hn8hFZ"
      },
      "execution_count": 2,
      "outputs": []
    },
    {
      "cell_type": "code",
      "source": [
        "# Logistic function\n",
        "def sigmoid(z):\n",
        "    return 1 / (1 + np.exp(-z))\n",
        "\n",
        "# Log-likelihood function\n",
        "def log_likelihood(X, y, theta):\n",
        "    z = np.dot(X, theta)\n",
        "    ll = np.sum(y * z - np.log(1 + np.exp(z)))\n",
        "    return ll\n",
        "\n",
        "# Gradient of the log-likelihood\n",
        "def gradient(X, y, theta):\n",
        "    z = np.dot(X, theta)\n",
        "    grad = np.dot(X.T, y - sigmoid(z))\n",
        "    return grad\n",
        "\n",
        "# Gradient ascent to maximize log-likelihood\n",
        "def gradient_ascent(X, y, lr=0.1, iterations=1000):\n",
        "    theta = np.zeros(X.shape[1])\n",
        "    ll_values = []\n",
        "    for i in range(iterations):\n",
        "        grad = gradient(X, y, theta)\n",
        "        theta += lr * grad\n",
        "        if i % 100 == 0:\n",
        "            ll = log_likelihood(X, y, theta)\n",
        "            ll_values.append(ll)\n",
        "            print(f'Iteration {i}: Log-Likelihood = {ll}')\n",
        "    return theta, ll_values"
      ],
      "metadata": {
        "id": "do5MtYMHCQKs"
      },
      "execution_count": 3,
      "outputs": []
    },
    {
      "cell_type": "code",
      "source": [
        "# Train the logistic regression model\n",
        "theta, ll_values = gradient_ascent(X_train, y_train)\n",
        "\n",
        "# Plot log-likelihood values\n",
        "plt.plot(range(0, 1000, 100), ll_values)\n",
        "plt.xlabel('Iterations')\n",
        "plt.ylabel('Log-Likelihood')\n",
        "plt.title('Log-Likelihood vs. Iterations')\n",
        "plt.show()\n",
        "\n",
        "# Predict class labels for test data\n",
        "def predict(X, theta):\n",
        "    probs = sigmoid(np.dot(X, theta))\n",
        "    return (probs >= 0.5).astype(int)\n",
        "\n",
        "# Predictions and evaluation\n",
        "y_pred = predict(X_test, theta)\n",
        "\n",
        "# Accuracy\n",
        "accuracy = np.mean(y_pred == y_test)\n",
        "print(f'Accuracy: {accuracy * 100:.2f}%')\n",
        "\n",
        "\n",
        "print('Confusion Matrix:')\n",
        "print(confusion_matrix(y_test, y_pred))\n",
        "print('\\nClassification Report:')\n",
        "print(classification_report(y_test, y_pred))"
      ],
      "metadata": {
        "colab": {
          "base_uri": "https://localhost:8080/",
          "height": 906
        },
        "id": "6Qds050z8mfC",
        "outputId": "bdf580ed-7c44-41ce-b771-45e27b67b3b2"
      },
      "execution_count": 6,
      "outputs": [
        {
          "output_type": "stream",
          "name": "stdout",
          "text": [
            "Iteration 0: Log-Likelihood = -0.04207253553981846\n",
            "Iteration 100: Log-Likelihood = -0.022317077134712725\n",
            "Iteration 200: Log-Likelihood = -0.016165041468990428\n",
            "Iteration 300: Log-Likelihood = -0.013182502211786143\n",
            "Iteration 400: Log-Likelihood = -0.011393999386273411\n",
            "Iteration 500: Log-Likelihood = -0.010169863151205386\n",
            "Iteration 600: Log-Likelihood = -0.00925492938685748\n",
            "Iteration 700: Log-Likelihood = -0.008529397029990117\n",
            "Iteration 800: Log-Likelihood = -0.007930537081648543\n",
            "Iteration 900: Log-Likelihood = -0.007422398347240197\n"
          ]
        },
        {
          "output_type": "display_data",
          "data": {
            "text/plain": [
              "<Figure size 640x480 with 1 Axes>"
            ],
            "image/png": "[encoded data removed]"
          },
          "metadata": {}
        },
        {
          "output_type": "stream",
          "name": "stdout",
          "text": [
            "Accuracy: 100.00%\n",
            "Confusion Matrix:\n",
            "[[10  0]\n",
            " [ 0 10]]\n",
            "\n",
            "Classification Report:\n",
            "              precision    recall  f1-score   support\n",
            "\n",
            "           0       1.00      1.00      1.00        10\n",
            "           1       1.00      1.00      1.00        10\n",
            "\n",
            "    accuracy                           1.00        20\n",
            "   macro avg       1.00      1.00      1.00        20\n",
            "weighted avg       1.00      1.00      1.00        20\n",
            "\n"
          ]
        }
      ]
    }
  ]
}