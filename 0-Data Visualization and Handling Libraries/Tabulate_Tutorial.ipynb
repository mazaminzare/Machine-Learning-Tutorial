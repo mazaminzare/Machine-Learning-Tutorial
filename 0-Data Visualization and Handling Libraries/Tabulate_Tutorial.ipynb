{
  "cells": [
    {
      "cell_type": "markdown",
      "id": "2205ee08",
      "metadata": {
        "id": "2205ee08"
      },
      "source": [
        "## 1. Installation\n",
        "Ensure you have Python installed. You can install Tabulate with the following command:\n",
        "```bash\n",
        "pip install tabulate\n",
        "```"
      ]
    },
    {
      "cell_type": "code",
      "execution_count": 1,
      "id": "dd41c099",
      "metadata": {
        "id": "dd41c099"
      },
      "outputs": [],
      "source": [
        "from tabulate import tabulate\n",
        "import pandas as pd\n",
        "import numpy as np"
      ]
    },
    {
      "cell_type": "markdown",
      "id": "00df1dc8",
      "metadata": {
        "id": "00df1dc8"
      },
      "source": [
        "## 2. Basic Table Display"
      ]
    },
    {
      "cell_type": "code",
      "execution_count": 2,
      "id": "b4865b95",
      "metadata": {
        "id": "b4865b95",
        "outputId": "b8c9c49d-65ce-4862-d626-caa6c40f47c6",
        "colab": {
          "base_uri": "https://localhost:8080/"
        }
      },
      "outputs": [
        {
          "output_type": "stream",
          "name": "stdout",
          "text": [
            "Name      Age  City\n",
            "------  -----  --------\n",
            "John       28  New York\n",
            "Anna       22  Paris\n",
            "Peter      34  Berlin\n",
            "Linda      42  London\n"
          ]
        }
      ],
      "source": [
        "# Creating a simple table\n",
        "table = [[\"Name\", \"Age\", \"City\"],\n",
        "         [\"John\", 28, \"New York\"],\n",
        "         [\"Anna\", 22, \"Paris\"],\n",
        "         [\"Peter\", 34, \"Berlin\"],\n",
        "         [\"Linda\", 42, \"London\"]]\n",
        "\n",
        "print(tabulate(table, headers=\"firstrow\"))"
      ]
    },
    {
      "cell_type": "markdown",
      "id": "a0cffa8f",
      "metadata": {
        "id": "a0cffa8f"
      },
      "source": [
        "## 3. Table Formats"
      ]
    },
    {
      "cell_type": "code",
      "execution_count": 3,
      "id": "b057257a",
      "metadata": {
        "id": "b057257a",
        "outputId": "62a2f054-a354-4ac4-af89-af097c885beb",
        "colab": {
          "base_uri": "https://localhost:8080/"
        }
      },
      "outputs": [
        {
          "output_type": "stream",
          "name": "stdout",
          "text": [
            "+--------+-------+----------+\n",
            "| Name   |   Age | City     |\n",
            "+========+=======+==========+\n",
            "| John   |    28 | New York |\n",
            "+--------+-------+----------+\n",
            "| Anna   |    22 | Paris    |\n",
            "+--------+-------+----------+\n",
            "| Peter  |    34 | Berlin   |\n",
            "+--------+-------+----------+\n",
            "| Linda  |    42 | London   |\n",
            "+--------+-------+----------+\n",
            "\n",
            "| Name   |   Age | City     |\n",
            "|:-------|------:|:---------|\n",
            "| John   |    28 | New York |\n",
            "| Anna   |    22 | Paris    |\n",
            "| Peter  |    34 | Berlin   |\n",
            "| Linda  |    42 | London   |\n",
            "\n",
            "<table>\n",
            "<thead>\n",
            "<tr><th>Name  </th><th style=\"text-align: right;\">  Age</th><th>City    </th></tr>\n",
            "</thead>\n",
            "<tbody>\n",
            "<tr><td>John  </td><td style=\"text-align: right;\">   28</td><td>New York</td></tr>\n",
            "<tr><td>Anna  </td><td style=\"text-align: right;\">   22</td><td>Paris   </td></tr>\n",
            "<tr><td>Peter </td><td style=\"text-align: right;\">   34</td><td>Berlin  </td></tr>\n",
            "<tr><td>Linda </td><td style=\"text-align: right;\">   42</td><td>London  </td></tr>\n",
            "</tbody>\n",
            "</table>\n"
          ]
        }
      ],
      "source": [
        "# Displaying table in different formats\n",
        "print(tabulate(table, headers=\"firstrow\", tablefmt=\"grid\"))\n",
        "print()\n",
        "print(tabulate(table, headers=\"firstrow\", tablefmt=\"pipe\"))\n",
        "print()\n",
        "print(tabulate(table, headers=\"firstrow\", tablefmt=\"html\"))"
      ]
    },
    {
      "cell_type": "markdown",
      "id": "f3d8c2e8",
      "metadata": {
        "id": "f3d8c2e8"
      },
      "source": [
        "## 4. Displaying DataFrames"
      ]
    },
    {
      "cell_type": "code",
      "execution_count": 4,
      "id": "14b0d329",
      "metadata": {
        "id": "14b0d329",
        "outputId": "a06fa73e-a267-4409-fef1-0c6c05327697",
        "colab": {
          "base_uri": "https://localhost:8080/"
        }
      },
      "outputs": [
        {
          "output_type": "stream",
          "name": "stdout",
          "text": [
            "+----+--------+-------+----------+\n",
            "|    | Name   |   Age | City     |\n",
            "+====+========+=======+==========+\n",
            "|  0 | John   |    28 | New York |\n",
            "+----+--------+-------+----------+\n",
            "|  1 | Anna   |    22 | Paris    |\n",
            "+----+--------+-------+----------+\n",
            "|  2 | Peter  |    34 | Berlin   |\n",
            "+----+--------+-------+----------+\n",
            "|  3 | Linda  |    42 | London   |\n",
            "+----+--------+-------+----------+\n"
          ]
        }
      ],
      "source": [
        "# Creating a DataFrame\n",
        "data = {'Name': ['John', 'Anna', 'Peter', 'Linda'],\n",
        "        'Age': [28, 22, 34, 42],\n",
        "        'City': ['New York', 'Paris', 'Berlin', 'London']}\n",
        "df = pd.DataFrame(data)\n",
        "\n",
        "# Displaying DataFrame as a table\n",
        "print(tabulate(df, headers=\"keys\", tablefmt=\"grid\"))"
      ]
    },
    {
      "cell_type": "markdown",
      "id": "4d6ca94c",
      "metadata": {
        "id": "4d6ca94c"
      },
      "source": [
        "## 5. Customizing Table Appearance"
      ]
    },
    {
      "cell_type": "code",
      "execution_count": 5,
      "id": "cf3eafed",
      "metadata": {
        "id": "cf3eafed",
        "outputId": "3e0a6baf-65c9-45f7-b95a-4ad89d19daf7",
        "colab": {
          "base_uri": "https://localhost:8080/"
        }
      },
      "outputs": [
        {
          "output_type": "stream",
          "name": "stdout",
          "text": [
            "+--------+-------+----------+\n",
            "|  Name  |   Age |   City   |\n",
            "+========+=======+==========+\n",
            "|  John  |    28 | New York |\n",
            "+--------+-------+----------+\n",
            "|  Anna  |    22 |  Paris   |\n",
            "+--------+-------+----------+\n",
            "| Peter  |    34 |  Berlin  |\n",
            "+--------+-------+----------+\n",
            "| Linda  |    42 |  London  |\n",
            "+--------+-------+----------+\n"
          ]
        }
      ],
      "source": [
        "# Customizing table appearance with alignment\n",
        "table = [[\"Name\", \"Age\", \"City\"],\n",
        "         [\"John\", 28, \"New York\"],\n",
        "         [\"Anna\", 22, \"Paris\"],\n",
        "         [\"Peter\", 34, \"Berlin\"],\n",
        "         [\"Linda\", 42, \"London\"]]\n",
        "\n",
        "print(tabulate(table, headers=\"firstrow\", tablefmt=\"grid\", stralign=\"center\", numalign=\"right\"))"
      ]
    },
    {
      "cell_type": "markdown",
      "id": "c4548b25",
      "metadata": {
        "id": "c4548b25"
      },
      "source": [
        "## 6. Table with Aggregated Data"
      ]
    },
    {
      "cell_type": "code",
      "execution_count": 6,
      "id": "e00f47c5",
      "metadata": {
        "id": "e00f47c5",
        "outputId": "f65fc652-7c8a-41d6-85f8-2b7d1fe190d6",
        "colab": {
          "base_uri": "https://localhost:8080/"
        }
      },
      "outputs": [
        {
          "output_type": "stream",
          "name": "stdout",
          "text": [
            "+----+------------+----------+\n",
            "|    | Category   |   Values |\n",
            "+====+============+==========+\n",
            "|  0 | A          |       25 |\n",
            "+----+------------+----------+\n",
            "|  1 | B          |       45 |\n",
            "+----+------------+----------+\n"
          ]
        }
      ],
      "source": [
        "# Creating a DataFrame with aggregated data\n",
        "data = {'Category': ['A', 'B', 'A', 'B'],\n",
        "        'Values': [10, 20, 15, 25]}\n",
        "df = pd.DataFrame(data)\n",
        "\n",
        "# Aggregating data\n",
        "aggregated_data = df.groupby('Category').sum().reset_index()\n",
        "\n",
        "# Displaying aggregated data as a table\n",
        "print(tabulate(aggregated_data, headers=\"keys\", tablefmt=\"grid\"))"
      ]
    },
    {
      "cell_type": "markdown",
      "id": "2d817de9",
      "metadata": {
        "id": "2d817de9"
      },
      "source": [
        "## 7. Tables with Calculated Columns"
      ]
    },
    {
      "cell_type": "code",
      "execution_count": 7,
      "id": "d387fbbf",
      "metadata": {
        "id": "d387fbbf",
        "outputId": "74946994-94ba-41e7-c620-f0f39bae41ad",
        "colab": {
          "base_uri": "https://localhost:8080/"
        }
      },
      "outputs": [
        {
          "output_type": "stream",
          "name": "stdout",
          "text": [
            "+----+-----------+---------+------------+---------+\n",
            "|    | Product   |   Price |   Quantity |   Total |\n",
            "+====+===========+=========+============+=========+\n",
            "|  0 | A         |   10.5  |          2 |   21    |\n",
            "+----+-----------+---------+------------+---------+\n",
            "|  1 | B         |   20    |          1 |   20    |\n",
            "+----+-----------+---------+------------+---------+\n",
            "|  2 | C         |   15.75 |          5 |   78.75 |\n",
            "+----+-----------+---------+------------+---------+\n",
            "|  3 | D         |   25    |          3 |   75    |\n",
            "+----+-----------+---------+------------+---------+\n"
          ]
        }
      ],
      "source": [
        "# Creating a DataFrame with calculated columns\n",
        "data = {'Product': ['A', 'B', 'C', 'D'],\n",
        "        'Price': [10.5, 20.0, 15.75, 25.0],\n",
        "        'Quantity': [2, 1, 5, 3]}\n",
        "df = pd.DataFrame(data)\n",
        "df['Total'] = df['Price'] * df['Quantity']\n",
        "\n",
        "# Displaying DataFrame with calculated columns as a table\n",
        "print(tabulate(df, headers=\"keys\", tablefmt=\"grid\"))"
      ]
    }
  ],
  "metadata": {
    "colab": {
      "provenance": []
    },
    "language_info": {
      "name": "python"
    },
    "kernelspec": {
      "name": "python3",
      "display_name": "Python 3"
    }
  },
  "nbformat": 4,
  "nbformat_minor": 5
}