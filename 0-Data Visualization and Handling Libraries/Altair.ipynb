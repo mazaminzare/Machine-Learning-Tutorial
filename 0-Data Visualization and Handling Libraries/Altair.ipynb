{
  "cells": [
    {
      "cell_type": "markdown",
      "id": "f4480800",
      "metadata": {
        "id": "f4480800"
      },
      "source": [
        "## 1. Installation\n",
        "Ensure you have Python installed. You can install Altair with the following command:\n",
        "```bash\n",
        "pip install altair\n",
        "```"
      ]
    },
    {
      "cell_type": "code",
      "execution_count": 1,
      "id": "060e83ec",
      "metadata": {
        "id": "060e83ec"
      },
      "outputs": [],
      "source": [
        "import altair as alt\n",
        "import pandas as pd\n",
        "import numpy as np"
      ]
    },
    {
      "cell_type": "markdown",
      "id": "5f036993",
      "metadata": {
        "id": "5f036993"
      },
      "source": [
        "## 2. Basic Plotting"
      ]
    },
    {
      "cell_type": "code",
      "execution_count": 2,
      "id": "2478493f",
      "metadata": {
        "colab": {
          "base_uri": "https://localhost:8080/",
          "height": 385
        },
        "id": "2478493f",
        "outputId": "be2940c8-64a6-4ae4-d651-79588237a070"
      },
      "outputs": [
        {
          "output_type": "execute_result",
          "data": {
            "text/html": [
              "\n",
              "<div id=\"altair-viz-e4a063857760454bbccdd9cc3284b0ed\"></div>\n",
              "<script type=\"text/javascript\">\n",
              "  var VEGA_DEBUG = (typeof VEGA_DEBUG == \"undefined\") ? {} : VEGA_DEBUG;\n",
              "  (function(spec, embedOpt){\n",
              "    let outputDiv = document.currentScript.previousElementSibling;\n",
              "    if (outputDiv.id !== \"altair-viz-e4a063857760454bbccdd9cc3284b0ed\") {\n",
              "      outputDiv = document.getElementById(\"altair-viz-e4a063857760454bbccdd9cc3284b0ed\");\n",
              "    }\n",
              "    const paths = {\n",
              "      \"vega\": \"https://cdn.jsdelivr.net/npm//vega@5?noext\",\n",
              "      \"vega-lib\": \"https://cdn.jsdelivr.net/npm//vega-lib?noext\",\n",
              "      \"vega-lite\": \"https://cdn.jsdelivr.net/npm//vega-lite@4.17.0?noext\",\n",
              "      \"vega-embed\": \"https://cdn.jsdelivr.net/npm//vega-embed@6?noext\",\n",
              "    };\n",
              "\n",
              "    function maybeLoadScript(lib, version) {\n",
              "      var key = `${lib.replace(\"-\", \"\")}_version`;\n",
              "      return (VEGA_DEBUG[key] == version) ?\n",
              "        Promise.resolve(paths[lib]) :\n",
              "        new Promise(function(resolve, reject) {\n",
              "          var s = document.createElement('script');\n",
              "          document.getElementsByTagName(\"head\")[0].appendChild(s);\n",
              "          s.async = true;\n",
              "          s.onload = () => {\n",
              "            VEGA_DEBUG[key] = version;\n",
              "            return resolve(paths[lib]);\n",
              "          };\n",
              "          s.onerror = () => reject(`Error loading script: ${paths[lib]}`);\n",
              "          s.src = paths[lib];\n",
              "        });\n",
              "    }\n",
              "\n",
              "    function showError(err) {\n",
              "      outputDiv.innerHTML = `<div class=\"error\" style=\"color:red;\">${err}</div>`;\n",
              "      throw err;\n",
              "    }\n",
              "\n",
              "    function displayChart(vegaEmbed) {\n",
              "      vegaEmbed(outputDiv, spec, embedOpt)\n",
              "        .catch(err => showError(`Javascript Error: ${err.message}<br>This usually means there's a typo in your chart specification. See the javascript console for the full traceback.`));\n",
              "    }\n",
              "\n",
              "    if(typeof define === \"function\" && define.amd) {\n",
              "      requirejs.config({paths});\n",
              "      require([\"vega-embed\"], displayChart, err => showError(`Error loading script: ${err.message}`));\n",
              "    } else {\n",
              "      maybeLoadScript(\"vega\", \"5\")\n",
              "        .then(() => maybeLoadScript(\"vega-lite\", \"4.17.0\"))\n",
              "        .then(() => maybeLoadScript(\"vega-embed\", \"6\"))\n",
              "        .catch(showError)\n",
              "        .then(() => displayChart(vegaEmbed));\n",
              "    }\n",
              "  })({\"config\": {\"view\": {\"continuousWidth\": 400, \"continuousHeight\": 300}}, \"data\": {\"name\": \"data-dab008047836edbf323e5e04b3c59c14\"}, \"mark\": {\"type\": \"circle\", \"size\": 60}, \"encoding\": {\"x\": {\"field\": \"x\", \"type\": \"quantitative\"}, \"y\": {\"field\": \"y\", \"type\": \"quantitative\"}}, \"title\": \"Simple Scatter Plot\", \"$schema\": \"https://vega.github.io/schema/vega-lite/v4.17.0.json\", \"datasets\": {\"data-dab008047836edbf323e5e04b3c59c14\": [{\"x\": 0.0, \"y\": 0.0}, {\"x\": 0.10101010101010101, \"y\": 0.1008384202581046}, {\"x\": 0.20202020202020202, \"y\": 0.2006488565226854}, {\"x\": 0.30303030303030304, \"y\": 0.2984138044476411}, {\"x\": 0.40404040404040403, \"y\": 0.3931366121483298}, {\"x\": 0.5050505050505051, \"y\": 0.48385164043793466}, {\"x\": 0.6060606060606061, \"y\": 0.5696341069089657}, {\"x\": 0.7070707070707071, \"y\": 0.6496095135057065}, {\"x\": 0.8080808080808081, \"y\": 0.7229625614794605}, {\"x\": 0.9090909090909091, \"y\": 0.7889454628442574}, {\"x\": 1.0101010101010102, \"y\": 0.8468855636029834}, {\"x\": 1.1111111111111112, \"y\": 0.8961922010299563}, {\"x\": 1.2121212121212122, \"y\": 0.9363627251042848}, {\"x\": 1.3131313131313131, \"y\": 0.9669876227092996}, {\"x\": 1.4141414141414141, \"y\": 0.9877546923600838}, {\"x\": 1.5151515151515151, \"y\": 0.9984522269003895}, {\"x\": 1.6161616161616161, \"y\": 0.9989711717233568}, {\"x\": 1.7171717171717171, \"y\": 0.9893062365143401}, {\"x\": 1.8181818181818181, \"y\": 0.9695559491823237}, {\"x\": 1.9191919191919191, \"y\": 0.9399216514301312}, {\"x\": 2.0202020202020203, \"y\": 0.9007054462029555}, {\"x\": 2.121212121212121, \"y\": 0.8523071179396752}, {\"x\": 2.2222222222222223, \"y\": 0.7952200570230491}, {\"x\": 2.323232323232323, \"y\": 0.7300262299764464}, {\"x\": 2.4242424242424243, \"y\": 0.6573902466827755}, {\"x\": 2.525252525252525, \"y\": 0.5780525851065732}, {\"x\": 2.6262626262626263, \"y\": 0.4928220425889235}, {\"x\": 2.727272727272727, \"y\": 0.40256749066949654}, {\"x\": 2.8282828282828283, \"y\": 0.30820901749007684}, {\"x\": 2.929292929292929, \"y\": 0.2107085480771929}, {\"x\": 3.0303030303030303, \"y\": 0.11106003812412972}, {\"x\": 3.131313131313131, \"y\": 0.010279341240534697}, {\"x\": 3.2323232323232323, \"y\": -0.09060614703340773}, {\"x\": 3.3333333333333335, \"y\": -0.19056796287548539}, {\"x\": 3.4343434343434343, \"y\": -0.28858705872043244}, {\"x\": 3.5353535353535355, \"y\": -0.38366419180611233}, {\"x\": 3.6363636363636362, \"y\": -0.47483011082223947}, {\"x\": 3.7373737373737375, \"y\": -0.5611554368152017}, {\"x\": 3.8383838383838382, \"y\": -0.6417601376193878}, {\"x\": 3.9393939393939394, \"y\": -0.7158224992291902}, {\"x\": 4.040404040404041, \"y\": -0.7825875026542022}, {\"x\": 4.141414141414141, \"y\": -0.8413745208608701}, {\"x\": 4.242424242424242, \"y\": -0.8915842573351402}, {\"x\": 4.343434343434343, \"y\": -0.9327048555318336}, {\"x\": 4.444444444444445, \"y\": -0.9643171169287782}, {\"x\": 4.545454545454545, \"y\": -0.9860987744909296}, {\"x\": 4.646464646464646, \"y\": -0.9978277779792126}, {\"x\": 4.747474747474747, \"y\": -0.9993845576124357}, {\"x\": 4.848484848484849, \"y\": -0.9907532430056771}, {\"x\": 4.94949494949495, \"y\": -0.9720218249588334}, {\"x\": 5.05050505050505, \"y\": -0.9433812584459996}, {\"x\": 5.151515151515151, \"y\": -0.9051235159501367}, {\"x\": 5.252525252525253, \"y\": -0.8576386109880517}, {\"x\": 5.353535353535354, \"y\": -0.8014106221689697}, {\"x\": 5.454545454545454, \"y\": -0.7370127583189133}, {\"x\": 5.555555555555555, \"y\": -0.6651015149788224}, {\"x\": 5.656565656565657, \"y\": -0.586409981847235}, {\"x\": 5.757575757575758, \"y\": -0.5017403693939113}, {\"x\": 5.858585858585858, \"y\": -0.4119558308308628}, {\"x\": 5.959595959595959, \"y\": -0.31797166281061867}, {\"x\": 6.0606060606060606, \"y\": -0.22074597455506334}, {\"x\": 6.161616161616162, \"y\": -0.12126992053716677}, {\"x\": 6.262626262626262, \"y\": -0.020557596287260064}, {\"x\": 6.363636363636363, \"y\": 0.08036429967028173}, {\"x\": 6.4646464646464645, \"y\": 0.18046693235991093}, {\"x\": 6.565656565656566, \"y\": 0.27872981867755725}, {\"x\": 6.666666666666667, \"y\": 0.37415123057121996}, {\"x\": 6.767676767676767, \"y\": 0.4657584070256517}, {\"x\": 6.8686868686868685, \"y\": 0.5526174707464059}, {\"x\": 6.96969696969697, \"y\": 0.6338429484489058}, {\"x\": 7.070707070707071, \"y\": 0.7086067976992182}, {\"x\": 7.171717171717171, \"y\": 0.7761468482835805}, {\"x\": 7.2727272727272725, \"y\": 0.8357745720522589}, {\"x\": 7.373737373737374, \"y\": 0.8868821020290788}, {\"x\": 7.474747474747475, \"y\": 0.9289484292312513}, {\"x\": 7.575757575757575, \"y\": 0.9615447140268235}, {\"x\": 7.6767676767676765, \"y\": 0.9843386578838236}, {\"x\": 7.777777777777778, \"y\": 0.9970978909438748}, {\"x\": 7.878787878787879, \"y\": 0.9996923408861117}, {\"x\": 7.979797979797979, \"y\": 0.9920955589323228}, {\"x\": 8.080808080808081, \"y\": 0.9743849894755358}, {\"x\": 8.181818181818182, \"y\": 0.9467411805833543}, {\"x\": 8.282828282828282, \"y\": 0.9094459434244625}, {\"x\": 8.383838383838384, \"y\": 0.8628794793817836}, {\"x\": 8.484848484848484, \"y\": 0.8075165041395626}, {\"x\": 8.585858585858587, \"y\": 0.7439214082568444}, {\"x\": 8.686868686868687, \"y\": 0.6727425035622647}, {\"x\": 8.787878787878787, \"y\": 0.5947054140244975}, {\"x\": 8.88888888888889, \"y\": 0.510605678474283}, {\"x\": 8.98989898989899, \"y\": 0.4213006405886069}, {\"x\": 9.09090909090909, \"y\": 0.32770070881349983}, {\"x\": 9.191919191919192, \"y\": 0.23076007532505177}, {\"x\": 9.292929292929292, \"y\": 0.13146698864295842}, {\"x\": 9.393939393939394, \"y\": 0.03083367906114098}, {\"x\": 9.494949494949495, \"y\": -0.07011396040064677}, {\"x\": 9.595959595959595, \"y\": -0.1703468323280965}, {\"x\": 9.696969696969697, \"y\": -0.26884312591038406}, {\"x\": 9.797979797979798, \"y\": -0.3645987336558887}, {\"x\": 9.8989898989899, \"y\": -0.45663748763377376}, {\"x\": 10.0, \"y\": -0.5440211108893698}]}}, {\"mode\": \"vega-lite\"});\n",
              "</script>"
            ],
            "text/plain": [
              "alt.Chart(...)"
            ]
          },
          "metadata": {},
          "execution_count": 2
        }
      ],
      "source": [
        "# Creating a simple scatter plot\n",
        "data = pd.DataFrame({\n",
        "    'x': np.linspace(0, 10, 100),\n",
        "    'y': np.sin(np.linspace(0, 10, 100))\n",
        "})\n",
        "\n",
        "scatter_plot = alt.Chart(data).mark_circle(size=60).encode(\n",
        "    x='x',\n",
        "    y='y'\n",
        ").properties(\n",
        "    title='Simple Scatter Plot'\n",
        ")\n",
        "\n",
        "scatter_plot"
      ]
    },
    {
      "cell_type": "markdown",
      "id": "ba9b01db",
      "metadata": {
        "id": "ba9b01db"
      },
      "source": [
        "## 3. Line Charts"
      ]
    },
    {
      "cell_type": "code",
      "execution_count": 3,
      "id": "19788bc5",
      "metadata": {
        "colab": {
          "base_uri": "https://localhost:8080/",
          "height": 385
        },
        "id": "19788bc5",
        "outputId": "c654f84c-1a15-47ae-803b-791ac6c5aa70"
      },
      "outputs": [
        {
          "output_type": "execute_result",
          "data": {
            "text/html": [
              "\n",
              "<div id=\"altair-viz-cb130669d5954263bf1d115764b40825\"></div>\n",
              "<script type=\"text/javascript\">\n",
              "  var VEGA_DEBUG = (typeof VEGA_DEBUG == \"undefined\") ? {} : VEGA_DEBUG;\n",
              "  (function(spec, embedOpt){\n",
              "    let outputDiv = document.currentScript.previousElementSibling;\n",
              "    if (outputDiv.id !== \"altair-viz-cb130669d5954263bf1d115764b40825\") {\n",
              "      outputDiv = document.getElementById(\"altair-viz-cb130669d5954263bf1d115764b40825\");\n",
              "    }\n",
              "    const paths = {\n",
              "      \"vega\": \"https://cdn.jsdelivr.net/npm//vega@5?noext\",\n",
              "      \"vega-lib\": \"https://cdn.jsdelivr.net/npm//vega-lib?noext\",\n",
              "      \"vega-lite\": \"https://cdn.jsdelivr.net/npm//vega-lite@4.17.0?noext\",\n",
              "      \"vega-embed\": \"https://cdn.jsdelivr.net/npm//vega-embed@6?noext\",\n",
              "    };\n",
              "\n",
              "    function maybeLoadScript(lib, version) {\n",
              "      var key = `${lib.replace(\"-\", \"\")}_version`;\n",
              "      return (VEGA_DEBUG[key] == version) ?\n",
              "        Promise.resolve(paths[lib]) :\n",
              "        new Promise(function(resolve, reject) {\n",
              "          var s = document.createElement('script');\n",
              "          document.getElementsByTagName(\"head\")[0].appendChild(s);\n",
              "          s.async = true;\n",
              "          s.onload = () => {\n",
              "            VEGA_DEBUG[key] = version;\n",
              "            return resolve(paths[lib]);\n",
              "          };\n",
              "          s.onerror = () => reject(`Error loading script: ${paths[lib]}`);\n",
              "          s.src = paths[lib];\n",
              "        });\n",
              "    }\n",
              "\n",
              "    function showError(err) {\n",
              "      outputDiv.innerHTML = `<div class=\"error\" style=\"color:red;\">${err}</div>`;\n",
              "      throw err;\n",
              "    }\n",
              "\n",
              "    function displayChart(vegaEmbed) {\n",
              "      vegaEmbed(outputDiv, spec, embedOpt)\n",
              "        .catch(err => showError(`Javascript Error: ${err.message}<br>This usually means there's a typo in your chart specification. See the javascript console for the full traceback.`));\n",
              "    }\n",
              "\n",
              "    if(typeof define === \"function\" && define.amd) {\n",
              "      requirejs.config({paths});\n",
              "      require([\"vega-embed\"], displayChart, err => showError(`Error loading script: ${err.message}`));\n",
              "    } else {\n",
              "      maybeLoadScript(\"vega\", \"5\")\n",
              "        .then(() => maybeLoadScript(\"vega-lite\", \"4.17.0\"))\n",
              "        .then(() => maybeLoadScript(\"vega-embed\", \"6\"))\n",
              "        .catch(showError)\n",
              "        .then(() => displayChart(vegaEmbed));\n",
              "    }\n",
              "  })({\"config\": {\"view\": {\"continuousWidth\": 400, \"continuousHeight\": 300}}, \"data\": {\"name\": \"data-dab008047836edbf323e5e04b3c59c14\"}, \"mark\": \"line\", \"encoding\": {\"x\": {\"field\": \"x\", \"type\": \"quantitative\"}, \"y\": {\"field\": \"y\", \"type\": \"quantitative\"}}, \"title\": \"Simple Line Chart\", \"$schema\": \"https://vega.github.io/schema/vega-lite/v4.17.0.json\", \"datasets\": {\"data-dab008047836edbf323e5e04b3c59c14\": [{\"x\": 0.0, \"y\": 0.0}, {\"x\": 0.10101010101010101, \"y\": 0.1008384202581046}, {\"x\": 0.20202020202020202, \"y\": 0.2006488565226854}, {\"x\": 0.30303030303030304, \"y\": 0.2984138044476411}, {\"x\": 0.40404040404040403, \"y\": 0.3931366121483298}, {\"x\": 0.5050505050505051, \"y\": 0.48385164043793466}, {\"x\": 0.6060606060606061, \"y\": 0.5696341069089657}, {\"x\": 0.7070707070707071, \"y\": 0.6496095135057065}, {\"x\": 0.8080808080808081, \"y\": 0.7229625614794605}, {\"x\": 0.9090909090909091, \"y\": 0.7889454628442574}, {\"x\": 1.0101010101010102, \"y\": 0.8468855636029834}, {\"x\": 1.1111111111111112, \"y\": 0.8961922010299563}, {\"x\": 1.2121212121212122, \"y\": 0.9363627251042848}, {\"x\": 1.3131313131313131, \"y\": 0.9669876227092996}, {\"x\": 1.4141414141414141, \"y\": 0.9877546923600838}, {\"x\": 1.5151515151515151, \"y\": 0.9984522269003895}, {\"x\": 1.6161616161616161, \"y\": 0.9989711717233568}, {\"x\": 1.7171717171717171, \"y\": 0.9893062365143401}, {\"x\": 1.8181818181818181, \"y\": 0.9695559491823237}, {\"x\": 1.9191919191919191, \"y\": 0.9399216514301312}, {\"x\": 2.0202020202020203, \"y\": 0.9007054462029555}, {\"x\": 2.121212121212121, \"y\": 0.8523071179396752}, {\"x\": 2.2222222222222223, \"y\": 0.7952200570230491}, {\"x\": 2.323232323232323, \"y\": 0.7300262299764464}, {\"x\": 2.4242424242424243, \"y\": 0.6573902466827755}, {\"x\": 2.525252525252525, \"y\": 0.5780525851065732}, {\"x\": 2.6262626262626263, \"y\": 0.4928220425889235}, {\"x\": 2.727272727272727, \"y\": 0.40256749066949654}, {\"x\": 2.8282828282828283, \"y\": 0.30820901749007684}, {\"x\": 2.929292929292929, \"y\": 0.2107085480771929}, {\"x\": 3.0303030303030303, \"y\": 0.11106003812412972}, {\"x\": 3.131313131313131, \"y\": 0.010279341240534697}, {\"x\": 3.2323232323232323, \"y\": -0.09060614703340773}, {\"x\": 3.3333333333333335, \"y\": -0.19056796287548539}, {\"x\": 3.4343434343434343, \"y\": -0.28858705872043244}, {\"x\": 3.5353535353535355, \"y\": -0.38366419180611233}, {\"x\": 3.6363636363636362, \"y\": -0.47483011082223947}, {\"x\": 3.7373737373737375, \"y\": -0.5611554368152017}, {\"x\": 3.8383838383838382, \"y\": -0.6417601376193878}, {\"x\": 3.9393939393939394, \"y\": -0.7158224992291902}, {\"x\": 4.040404040404041, \"y\": -0.7825875026542022}, {\"x\": 4.141414141414141, \"y\": -0.8413745208608701}, {\"x\": 4.242424242424242, \"y\": -0.8915842573351402}, {\"x\": 4.343434343434343, \"y\": -0.9327048555318336}, {\"x\": 4.444444444444445, \"y\": -0.9643171169287782}, {\"x\": 4.545454545454545, \"y\": -0.9860987744909296}, {\"x\": 4.646464646464646, \"y\": -0.9978277779792126}, {\"x\": 4.747474747474747, \"y\": -0.9993845576124357}, {\"x\": 4.848484848484849, \"y\": -0.9907532430056771}, {\"x\": 4.94949494949495, \"y\": -0.9720218249588334}, {\"x\": 5.05050505050505, \"y\": -0.9433812584459996}, {\"x\": 5.151515151515151, \"y\": -0.9051235159501367}, {\"x\": 5.252525252525253, \"y\": -0.8576386109880517}, {\"x\": 5.353535353535354, \"y\": -0.8014106221689697}, {\"x\": 5.454545454545454, \"y\": -0.7370127583189133}, {\"x\": 5.555555555555555, \"y\": -0.6651015149788224}, {\"x\": 5.656565656565657, \"y\": -0.586409981847235}, {\"x\": 5.757575757575758, \"y\": -0.5017403693939113}, {\"x\": 5.858585858585858, \"y\": -0.4119558308308628}, {\"x\": 5.959595959595959, \"y\": -0.31797166281061867}, {\"x\": 6.0606060606060606, \"y\": -0.22074597455506334}, {\"x\": 6.161616161616162, \"y\": -0.12126992053716677}, {\"x\": 6.262626262626262, \"y\": -0.020557596287260064}, {\"x\": 6.363636363636363, \"y\": 0.08036429967028173}, {\"x\": 6.4646464646464645, \"y\": 0.18046693235991093}, {\"x\": 6.565656565656566, \"y\": 0.27872981867755725}, {\"x\": 6.666666666666667, \"y\": 0.37415123057121996}, {\"x\": 6.767676767676767, \"y\": 0.4657584070256517}, {\"x\": 6.8686868686868685, \"y\": 0.5526174707464059}, {\"x\": 6.96969696969697, \"y\": 0.6338429484489058}, {\"x\": 7.070707070707071, \"y\": 0.7086067976992182}, {\"x\": 7.171717171717171, \"y\": 0.7761468482835805}, {\"x\": 7.2727272727272725, \"y\": 0.8357745720522589}, {\"x\": 7.373737373737374, \"y\": 0.8868821020290788}, {\"x\": 7.474747474747475, \"y\": 0.9289484292312513}, {\"x\": 7.575757575757575, \"y\": 0.9615447140268235}, {\"x\": 7.6767676767676765, \"y\": 0.9843386578838236}, {\"x\": 7.777777777777778, \"y\": 0.9970978909438748}, {\"x\": 7.878787878787879, \"y\": 0.9996923408861117}, {\"x\": 7.979797979797979, \"y\": 0.9920955589323228}, {\"x\": 8.080808080808081, \"y\": 0.9743849894755358}, {\"x\": 8.181818181818182, \"y\": 0.9467411805833543}, {\"x\": 8.282828282828282, \"y\": 0.9094459434244625}, {\"x\": 8.383838383838384, \"y\": 0.8628794793817836}, {\"x\": 8.484848484848484, \"y\": 0.8075165041395626}, {\"x\": 8.585858585858587, \"y\": 0.7439214082568444}, {\"x\": 8.686868686868687, \"y\": 0.6727425035622647}, {\"x\": 8.787878787878787, \"y\": 0.5947054140244975}, {\"x\": 8.88888888888889, \"y\": 0.510605678474283}, {\"x\": 8.98989898989899, \"y\": 0.4213006405886069}, {\"x\": 9.09090909090909, \"y\": 0.32770070881349983}, {\"x\": 9.191919191919192, \"y\": 0.23076007532505177}, {\"x\": 9.292929292929292, \"y\": 0.13146698864295842}, {\"x\": 9.393939393939394, \"y\": 0.03083367906114098}, {\"x\": 9.494949494949495, \"y\": -0.07011396040064677}, {\"x\": 9.595959595959595, \"y\": -0.1703468323280965}, {\"x\": 9.696969696969697, \"y\": -0.26884312591038406}, {\"x\": 9.797979797979798, \"y\": -0.3645987336558887}, {\"x\": 9.8989898989899, \"y\": -0.45663748763377376}, {\"x\": 10.0, \"y\": -0.5440211108893698}]}}, {\"mode\": \"vega-lite\"});\n",
              "</script>"
            ],
            "text/plain": [
              "alt.Chart(...)"
            ]
          },
          "metadata": {},
          "execution_count": 3
        }
      ],
      "source": [
        "# Creating a line chart\n",
        "line_chart = alt.Chart(data).mark_line().encode(\n",
        "    x='x',\n",
        "    y='y'\n",
        ").properties(\n",
        "    title='Simple Line Chart'\n",
        ")\n",
        "\n",
        "line_chart"
      ]
    },
    {
      "cell_type": "markdown",
      "id": "80276171",
      "metadata": {
        "id": "80276171"
      },
      "source": [
        "## 4. Bar Charts"
      ]
    },
    {
      "cell_type": "code",
      "execution_count": 4,
      "id": "02375c16",
      "metadata": {
        "colab": {
          "base_uri": "https://localhost:8080/",
          "height": 415
        },
        "id": "02375c16",
        "outputId": "da65f698-23d4-485d-b221-af387de03a39"
      },
      "outputs": [
        {
          "output_type": "execute_result",
          "data": {
            "text/html": [
              "\n",
              "<div id=\"altair-viz-f9eda8d138d24013b520ba05a84078f2\"></div>\n",
              "<script type=\"text/javascript\">\n",
              "  var VEGA_DEBUG = (typeof VEGA_DEBUG == \"undefined\") ? {} : VEGA_DEBUG;\n",
              "  (function(spec, embedOpt){\n",
              "    let outputDiv = document.currentScript.previousElementSibling;\n",
              "    if (outputDiv.id !== \"altair-viz-f9eda8d138d24013b520ba05a84078f2\") {\n",
              "      outputDiv = document.getElementById(\"altair-viz-f9eda8d138d24013b520ba05a84078f2\");\n",
              "    }\n",
              "    const paths = {\n",
              "      \"vega\": \"https://cdn.jsdelivr.net/npm//vega@5?noext\",\n",
              "      \"vega-lib\": \"https://cdn.jsdelivr.net/npm//vega-lib?noext\",\n",
              "      \"vega-lite\": \"https://cdn.jsdelivr.net/npm//vega-lite@4.17.0?noext\",\n",
              "      \"vega-embed\": \"https://cdn.jsdelivr.net/npm//vega-embed@6?noext\",\n",
              "    };\n",
              "\n",
              "    function maybeLoadScript(lib, version) {\n",
              "      var key = `${lib.replace(\"-\", \"\")}_version`;\n",
              "      return (VEGA_DEBUG[key] == version) ?\n",
              "        Promise.resolve(paths[lib]) :\n",
              "        new Promise(function(resolve, reject) {\n",
              "          var s = document.createElement('script');\n",
              "          document.getElementsByTagName(\"head\")[0].appendChild(s);\n",
              "          s.async = true;\n",
              "          s.onload = () => {\n",
              "            VEGA_DEBUG[key] = version;\n",
              "            return resolve(paths[lib]);\n",
              "          };\n",
              "          s.onerror = () => reject(`Error loading script: ${paths[lib]}`);\n",
              "          s.src = paths[lib];\n",
              "        });\n",
              "    }\n",
              "\n",
              "    function showError(err) {\n",
              "      outputDiv.innerHTML = `<div class=\"error\" style=\"color:red;\">${err}</div>`;\n",
              "      throw err;\n",
              "    }\n",
              "\n",
              "    function displayChart(vegaEmbed) {\n",
              "      vegaEmbed(outputDiv, spec, embedOpt)\n",
              "        .catch(err => showError(`Javascript Error: ${err.message}<br>This usually means there's a typo in your chart specification. See the javascript console for the full traceback.`));\n",
              "    }\n",
              "\n",
              "    if(typeof define === \"function\" && define.amd) {\n",
              "      requirejs.config({paths});\n",
              "      require([\"vega-embed\"], displayChart, err => showError(`Error loading script: ${err.message}`));\n",
              "    } else {\n",
              "      maybeLoadScript(\"vega\", \"5\")\n",
              "        .then(() => maybeLoadScript(\"vega-lite\", \"4.17.0\"))\n",
              "        .then(() => maybeLoadScript(\"vega-embed\", \"6\"))\n",
              "        .catch(showError)\n",
              "        .then(() => displayChart(vegaEmbed));\n",
              "    }\n",
              "  })({\"config\": {\"view\": {\"continuousWidth\": 400, \"continuousHeight\": 300}}, \"data\": {\"name\": \"data-b574510a809aa277590fc034c1738de3\"}, \"mark\": \"bar\", \"encoding\": {\"x\": {\"field\": \"Fruit\", \"type\": \"nominal\"}, \"y\": {\"field\": \"Count\", \"type\": \"quantitative\"}}, \"title\": \"Fruit Count\", \"$schema\": \"https://vega.github.io/schema/vega-lite/v4.17.0.json\", \"datasets\": {\"data-b574510a809aa277590fc034c1738de3\": [{\"Fruit\": \"Apples\", \"Count\": 20}, {\"Fruit\": \"Bananas\", \"Count\": 33}, {\"Fruit\": \"Cherries\", \"Count\": 15}]}}, {\"mode\": \"vega-lite\"});\n",
              "</script>"
            ],
            "text/plain": [
              "alt.Chart(...)"
            ]
          },
          "metadata": {},
          "execution_count": 4
        }
      ],
      "source": [
        "# Creating a bar chart\n",
        "data = pd.DataFrame({\n",
        "    'Fruit': ['Apples', 'Bananas', 'Cherries'],\n",
        "    'Count': [20, 33, 15]\n",
        "})\n",
        "\n",
        "bar_chart = alt.Chart(data).mark_bar().encode(\n",
        "    x='Fruit',\n",
        "    y='Count'\n",
        ").properties(\n",
        "    title='Fruit Count'\n",
        ")\n",
        "\n",
        "bar_chart"
      ]
    },
    {
      "cell_type": "markdown",
      "id": "4a37a40f",
      "metadata": {
        "id": "4a37a40f"
      },
      "source": [
        "## 5. Histograms"
      ]
    },
    {
      "cell_type": "code",
      "execution_count": 5,
      "id": "797f42ab",
      "metadata": {
        "colab": {
          "base_uri": "https://localhost:8080/",
          "height": 385
        },
        "id": "797f42ab",
        "outputId": "271db420-1b57-46de-87bb-7badb89d27c7"
      },
      "outputs": [
        {
          "output_type": "execute_result",
          "data": {
            "text/html": [
              "\n",
              "<div id=\"altair-viz-dd7e3a0ebe3548b9bb190bb12bd43093\"></div>\n",
              "<script type=\"text/javascript\">\n",
              "  var VEGA_DEBUG = (typeof VEGA_DEBUG == \"undefined\") ? {} : VEGA_DEBUG;\n",
              "  (function(spec, embedOpt){\n",
              "    let outputDiv = document.currentScript.previousElementSibling;\n",
              "    if (outputDiv.id !== \"altair-viz-dd7e3a0ebe3548b9bb190bb12bd43093\") {\n",
              "      outputDiv = document.getElementById(\"altair-viz-dd7e3a0ebe3548b9bb190bb12bd43093\");\n",
              "    }\n",
              "    const paths = {\n",
              "      \"vega\": \"https://cdn.jsdelivr.net/npm//vega@5?noext\",\n",
              "      \"vega-lib\": \"https://cdn.jsdelivr.net/npm//vega-lib?noext\",\n",
              "      \"vega-lite\": \"https://cdn.jsdelivr.net/npm//vega-lite@4.17.0?noext\",\n",
              "      \"vega-embed\": \"https://cdn.jsdelivr.net/npm//vega-embed@6?noext\",\n",
              "    };\n",
              "\n",
              "    function maybeLoadScript(lib, version) {\n",
              "      var key = `${lib.replace(\"-\", \"\")}_version`;\n",
              "      return (VEGA_DEBUG[key] == version) ?\n",
              "        Promise.resolve(paths[lib]) :\n",
              "        new Promise(function(resolve, reject) {\n",
              "          var s = document.createElement('script');\n",
              "          document.getElementsByTagName(\"head\")[0].appendChild(s);\n",
              "          s.async = true;\n",
              "          s.onload = () => {\n",
              "            VEGA_DEBUG[key] = version;\n",
              "            return resolve(paths[lib]);\n",
              "          };\n",
              "          s.onerror = () => reject(`Error loading script: ${paths[lib]}`);\n",
              "          s.src = paths[lib];\n",
              "        });\n",
              "    }\n",
              "\n",
              "    function showError(err) {\n",
              "      outputDiv.innerHTML = `<div class=\"error\" style=\"color:red;\">${err}</div>`;\n",
              "      throw err;\n",
              "    }\n",
              "\n",
              "    function displayChart(vegaEmbed) {\n",
              "      vegaEmbed(outputDiv, spec, embedOpt)\n",
              "        .catch(err => showError(`Javascript Error: ${err.message}<br>This usually means there's a typo in your chart specification. See the javascript console for the full traceback.`));\n",
              "    }\n",
              "\n",
              "    if(typeof define === \"function\" && define.amd) {\n",
              "      requirejs.config({paths});\n",
              "      require([\"vega-embed\"], displayChart, err => showError(`Error loading script: ${err.message}`));\n",
              "    } else {\n",
              "      maybeLoadScript(\"vega\", \"5\")\n",
              "        .then(() => maybeLoadScript(\"vega-lite\", \"4.17.0\"))\n",
              "        .then(() => maybeLoadScript(\"vega-embed\", \"6\"))\n",
              "        .catch(showError)\n",
              "        .then(() => displayChart(vegaEmbed));\n",
              "    }\n",
              "  })({\"config\": {\"view\": {\"continuousWidth\": 400, \"continuousHeight\": 300}}, \"data\": {\"name\": \"data-7f2fe556b68d045f005bf740c0b919f9\"}, \"mark\": \"bar\", \"encoding\": {\"x\": {\"bin\": {\"maxbins\": 30}, \"field\": \"values\", \"type\": \"quantitative\"}, \"y\": {\"aggregate\": \"count\", \"type\": \"quantitative\"}}, \"title\": \"Histogram\", \"$schema\": \"https://vega.github.io/schema/vega-lite/v4.17.0.json\", \"datasets\": {\"data-7f2fe556b68d045f005bf740c0b919f9\": [{\"values\": -0.6633105447988698}, {\"values\": -1.6902589348918766}, {\"values\": -0.15035049065974687}, {\"values\": 0.5139231087658857}, {\"values\": -0.6613099748365285}, {\"values\": -2.1556174242131223}, {\"values\": -0.46656824845698663}, {\"values\": 0.27420610631138836}, {\"values\": -1.1838935171602982}, {\"values\": 0.1025257367079022}, {\"values\": -0.04343947890387548}, {\"values\": 0.2742507339960158}, {\"values\": 0.6381032138830247}, {\"values\": -0.493032247680943}, {\"values\": -0.5760912543762651}, {\"values\": -0.5267910074603507}, {\"values\": 0.16153728174550377}, {\"values\": 0.2966677509017025}, {\"values\": 0.44206835618218204}, {\"values\": 1.5997177535210652}, {\"values\": -0.3090030189827679}, {\"values\": 0.1796514377588769}, {\"values\": -0.22201645602922526}, {\"values\": 0.3914297423100391}, {\"values\": 1.4082857263230093}, {\"values\": 1.0923105649259326}, {\"values\": 2.4234111669919147}, {\"values\": 0.3267407140283124}, {\"values\": 0.47844252796987047}, {\"values\": 1.0754005141164649}, {\"values\": -1.0228756015842562}, {\"values\": 2.0170808138078056}, {\"values\": 0.3364425077964998}, {\"values\": -1.3569569671666768}, {\"values\": 0.18893210214725395}, {\"values\": -1.8104891518558954}, {\"values\": 1.8731157417196431}, {\"values\": 0.4278364902866951}, {\"values\": 0.3506990127926592}, {\"values\": 0.31681316701996853}, {\"values\": 0.6236390083334298}, {\"values\": 1.0539494472420703}, {\"values\": 0.7400056891012327}, {\"values\": -0.6993814145437439}, {\"values\": 1.1942794091268654}, {\"values\": -0.13279388174423445}, {\"values\": 0.7190987399293276}, {\"values\": 0.000168978009243163}, {\"values\": -1.998023930901987}, {\"values\": 1.4127726379818604}, {\"values\": 0.18987835526518093}, {\"values\": -1.2415802606624773}, {\"values\": -0.5491475329765495}, {\"values\": -0.5488075178593207}, {\"values\": 1.7262048215248358}, {\"values\": -0.6117757619574113}, {\"values\": -1.5919240331410582}, {\"values\": 1.795541203141027}, {\"values\": 1.4074044117736957}, {\"values\": -1.5368909694889696}, {\"values\": 0.501370624851548}, {\"values\": 0.788601368941111}, {\"values\": -1.6803217526448113}, {\"values\": -0.08420788899478238}, {\"values\": 1.4829849362217353}, {\"values\": 0.07930070061317838}, {\"values\": 0.48334442130065136}, {\"values\": -0.7592754611229883}, {\"values\": -0.9060134302595957}, {\"values\": -0.8100805570907907}, {\"values\": -1.6503840028410015}, {\"values\": -0.48041205638590145}, {\"values\": 0.51089717301313}, {\"values\": 0.8688645578088584}, {\"values\": -0.7002422488686025}, {\"values\": -0.56165613615925}, {\"values\": 0.5801662029191792}, {\"values\": -1.1026311616465667}, {\"values\": 0.6594154846547057}, {\"values\": 1.0403952387429893}, {\"values\": 0.2821661746770137}, {\"values\": 0.5266980211131983}, {\"values\": -0.3035358865928505}, {\"values\": -1.060819970512745}, {\"values\": -1.2660882071844786}, {\"values\": 0.2316694515804835}, {\"values\": -0.4724836279971385}, {\"values\": 0.5945081013315928}, {\"values\": -0.9515242574289403}, {\"values\": 1.2367755727342842}, {\"values\": -0.7138597008595069}, {\"values\": 0.8366455790255894}, {\"values\": 0.37325772757617753}, {\"values\": -0.1414250139401552}, {\"values\": 0.5501597962469353}, {\"values\": -0.05837018142999458}, {\"values\": 1.4527613099242764}, {\"values\": 0.25491133397574955}, {\"values\": -0.6580519126433565}, {\"values\": 1.4229417332857157}, {\"values\": 0.03061602013517727}, {\"values\": 0.28265364076505084}, {\"values\": -0.7669061529671845}, {\"values\": 0.6906028934182498}, {\"values\": -1.9589652653166902}, {\"values\": 2.0286266407835236}, {\"values\": -1.1134837645795068}, {\"values\": -0.1535378868838174}, {\"values\": -1.4714079482510825}, {\"values\": -0.12929903458794978}, {\"values\": 0.29561827719270606}, {\"values\": 0.48327093321405734}, {\"values\": -1.2607062236267197}, {\"values\": -1.5230698772446774}, {\"values\": 0.3994201000150139}, {\"values\": -1.2440160573717318}, {\"values\": 0.25009720357355275}, {\"values\": -0.6206568957866714}, {\"values\": -0.8551115155075616}, {\"values\": -0.5320261002230533}, {\"values\": 1.3062271467942463}, {\"values\": 1.0046036653951347}, {\"values\": 1.8725097474037111}, {\"values\": -0.9658152977491768}, {\"values\": 0.5529392884163866}, {\"values\": -2.633168544354555}, {\"values\": -2.104716962304886}, {\"values\": 0.008254793944746349}, {\"values\": 0.15823261131294072}, {\"values\": -0.15291799857415428}, {\"values\": 0.6977276411889222}, {\"values\": 1.5312783253880355}, {\"values\": 1.0215226442507979}, {\"values\": 0.0909178632211341}, {\"values\": -1.1589748020458686}, {\"values\": 0.28665580106497446}, {\"values\": -0.18655034663397854}, {\"values\": -0.43081229323618836}, {\"values\": 0.7788597457755523}, {\"values\": -0.2924226219845389}, {\"values\": 0.5839620939272299}, {\"values\": 1.9715252581944527}, {\"values\": 0.18408820607924808}, {\"values\": -0.4901228241567596}, {\"values\": 0.0600053333907314}, {\"values\": -0.37967473059006474}, {\"values\": -0.15411825292530817}, {\"values\": -1.0297832345991653}, {\"values\": -0.940647839859776}, {\"values\": -0.5377308965951126}, {\"values\": -0.5283864731995673}, {\"values\": -1.7671793118537629}, {\"values\": -0.15601834741485446}, {\"values\": 0.03340710619156199}, {\"values\": -2.5783842972469024}, {\"values\": -0.25433265226011537}, {\"values\": 1.4524473655815826}, {\"values\": -0.8768339569709813}, {\"values\": 0.478412161048368}, {\"values\": 1.4506616560217473}, {\"values\": -1.3226118226429069}, {\"values\": 0.5130566234934613}, {\"values\": -0.49685385718225583}, {\"values\": -1.918262729852372}, {\"values\": 0.32695782195670076}, {\"values\": -0.7758063109955747}, {\"values\": 0.4505097431075663}, {\"values\": 0.18800985226959577}, {\"values\": -0.5496245765221303}, {\"values\": -0.8123126143268095}, {\"values\": 1.1045680487208784}, {\"values\": 0.9504021924601722}, {\"values\": -1.883652861553158}, {\"values\": -1.0555412661610886}, {\"values\": 0.42080932595314435}, {\"values\": 0.5039897612670567}, {\"values\": -0.4257284933792512}, {\"values\": -0.07559846184627977}, {\"values\": -0.343914314388856}, {\"values\": -0.7027522374915695}, {\"values\": -0.14885674046282618}, {\"values\": 0.44686025790378003}, {\"values\": -0.5422643414437442}, {\"values\": 0.8535306947646208}, {\"values\": 1.1995984518874552}, {\"values\": -1.5930881375251549}, {\"values\": 0.510599447810359}, {\"values\": -0.0525764525837122}, {\"values\": 2.192360067999455}, {\"values\": 1.661277439910767}, {\"values\": -0.6334215777690194}, {\"values\": -0.7400173059949419}, {\"values\": 1.4943505336226226}, {\"values\": 1.4455210283737239}, {\"values\": 0.06094911589133562}, {\"values\": -0.25159942683722847}, {\"values\": -0.17536809700742084}, {\"values\": -0.037638351189303185}, {\"values\": -1.545788531178796}, {\"values\": 0.49671131695531046}, {\"values\": 1.6252849636898237}, {\"values\": 1.1803943340055296}, {\"values\": 1.9986314311287332}, {\"values\": 0.10603085571233127}, {\"values\": -0.6576452195584852}, {\"values\": -0.6244880201855791}, {\"values\": 0.6015117966597934}, {\"values\": 0.6295873543367722}, {\"values\": 1.1971906548991709}, {\"values\": -0.7522913588894188}, {\"values\": 1.2958777033615936}, {\"values\": 0.17374746390595544}, {\"values\": -1.0635334787939186}, {\"values\": 2.131502910202737}, {\"values\": -0.6971424253312839}, {\"values\": 0.04247829929128675}, {\"values\": 1.5142018568712399}, {\"values\": 0.9446957409271026}, {\"values\": 1.5584169738275753}, {\"values\": 1.1439035266263577}, {\"values\": 1.2460076507614202}, {\"values\": 1.1889647316218088}, {\"values\": -0.5434580517382246}, {\"values\": -2.41729782435688}, {\"values\": -3.104228294807748}, {\"values\": -0.9833551141753553}, {\"values\": 0.504339208920009}, {\"values\": 0.16105793490833178}, {\"values\": -0.4658054763562936}, {\"values\": 0.07749348187245984}, {\"values\": -0.4338511268286938}, {\"values\": 0.04615025531148035}, {\"values\": 0.7373804839119692}, {\"values\": -0.3929648726579308}, {\"values\": 0.5298067396005304}, {\"values\": -0.40387571278164414}, {\"values\": -1.2775083425968756}, {\"values\": -1.384378909444716}, {\"values\": 0.15185550638524634}, {\"values\": -1.0966806965113625}, {\"values\": -1.8875706521429847}, {\"values\": -1.338661474149489}, {\"values\": -0.05547343336372318}, {\"values\": 1.720705085828134}, {\"values\": -1.260450387068167}, {\"values\": -0.7701218550637868}, {\"values\": 1.6942107106807502}, {\"values\": 0.8643703572751544}, {\"values\": -0.42157858499755346}, {\"values\": 1.1597196799790919}, {\"values\": 0.12284335857741795}, {\"values\": 0.5471576085119877}, {\"values\": 0.15313013490528296}, {\"values\": 0.20777905551841258}, {\"values\": 1.6662921931240022}, {\"values\": -0.2730227502145445}, {\"values\": -2.2097325814662265}, {\"values\": -0.13021471799751783}, {\"values\": 0.3535568724043113}, {\"values\": -0.9063563234878597}, {\"values\": 0.8659098881220318}, {\"values\": 0.5633842554774661}, {\"values\": 1.2619175946346224}, {\"values\": -0.0028930698360337794}, {\"values\": 1.2046633767028923}, {\"values\": 2.2067604322372447}, {\"values\": 1.3861009210592763}, {\"values\": 1.0453058585170292}, {\"values\": 1.3390125298044235}, {\"values\": 0.09670562265381745}, {\"values\": 1.561489070368361}, {\"values\": -0.403943035857697}, {\"values\": 2.604638415364199}, {\"values\": -0.2056222798912294}, {\"values\": -0.1921556613127983}, {\"values\": -0.8036660315090849}, {\"values\": -1.847263737911254}, {\"values\": -2.115827708126255}, {\"values\": -1.1472127685240965}, {\"values\": -0.010507032200151143}, {\"values\": -0.7080638986149292}, {\"values\": 0.44591706799201314}, {\"values\": -0.6795179922880504}, {\"values\": -1.291455086070363}, {\"values\": 1.8844168063232152}, {\"values\": 0.36331600818449333}, {\"values\": -0.026369208884946226}, {\"values\": -0.8408321998021793}, {\"values\": -2.1789208758503733}, {\"values\": -0.3754090406391768}, {\"values\": -0.6404535490623035}, {\"values\": 0.2992061207753244}, {\"values\": -0.5143768094445199}, {\"values\": -1.2115761488703602}, {\"values\": -1.37472282832351}, {\"values\": 0.343840403153765}, {\"values\": -0.3858559367393473}, {\"values\": -1.2835222898611423}, {\"values\": -0.3764428425604353}, {\"values\": -0.6527175427092294}, {\"values\": -0.6681399637433723}, {\"values\": 1.5440858366371728}, {\"values\": -1.425277885534256}, {\"values\": -0.930972028514178}, {\"values\": -1.011397045673362}, {\"values\": 0.45325634561097816}, {\"values\": 0.08086246327401259}, {\"values\": -1.8153395809788806}, {\"values\": 0.2602749363781914}, {\"values\": 0.6006319843144633}, {\"values\": 0.7760785670809724}, {\"values\": 0.16293929258047027}, {\"values\": -0.0979890633069808}, {\"values\": 0.45631941539443616}, {\"values\": -1.3863742385771403}, {\"values\": 0.4016363192192516}, {\"values\": -1.2650470573047743}, {\"values\": 0.483375490908932}, {\"values\": -0.06658386250428432}, {\"values\": 1.3213259510771993}, {\"values\": 0.469809387006727}, {\"values\": -1.2296913193766903}, {\"values\": 0.15526139151655893}, {\"values\": 0.23839598827644945}, {\"values\": 0.041093456476972615}, {\"values\": -0.9647584816408984}, {\"values\": -0.16596465570671706}, {\"values\": 0.30587108731425955}, {\"values\": -1.0843564831550323}, {\"values\": -0.15588356097685208}, {\"values\": -0.10677991145345872}, {\"values\": 0.44343114601429945}, {\"values\": -0.4251065211116407}, {\"values\": -0.06167924725725906}, {\"values\": 1.1115672777810428}, {\"values\": -1.0676076887234158}, {\"values\": -1.6037860161068582}, {\"values\": -1.412381473572794}, {\"values\": 0.5264295693946331}, {\"values\": -0.202865972910211}, {\"values\": -0.5645144188903609}, {\"values\": 0.5037089565401947}, {\"values\": 0.7183994297603093}, {\"values\": 0.5969119495905276}, {\"values\": 0.6605295267065288}, {\"values\": -1.3622657550137767}, {\"values\": -1.1417673910311703}, {\"values\": 0.5011314661610677}, {\"values\": 0.4897804492585587}, {\"values\": -0.9470716456926178}, {\"values\": -1.084497010485041}, {\"values\": -1.7612853543866263}, {\"values\": 0.977118599709005}, {\"values\": -0.07352927229798524}, {\"values\": -0.006370972298970361}, {\"values\": 0.008389602423015109}, {\"values\": 0.10704914105484503}, {\"values\": -0.9610395465566679}, {\"values\": -0.5443620076611089}, {\"values\": 0.9285104009060052}, {\"values\": 0.8292863882024297}, {\"values\": -1.0795536159332757}, {\"values\": 0.7721835938798942}, {\"values\": -0.8767787756797184}, {\"values\": -0.4209344888884366}, {\"values\": -1.2462500583548426}, {\"values\": -0.031263856204755906}, {\"values\": -0.10239075171946176}, {\"values\": 1.7757684606327608}, {\"values\": 0.9647171256417529}, {\"values\": 2.345730590197241}, {\"values\": 1.2551270387710627}, {\"values\": 0.4702386667135166}, {\"values\": 0.7555497829127618}, {\"values\": 0.5752022621603375}, {\"values\": -0.6605411482366305}, {\"values\": 1.0982309801607482}, {\"values\": 1.0669192181136127}, {\"values\": 0.195034544395203}, {\"values\": 0.45858902845088123}, {\"values\": -0.9687335463035665}, {\"values\": 1.670638357313806}, {\"values\": -0.08919383010528092}, {\"values\": 1.0433019327189292}, {\"values\": 1.7327308985012917}, {\"values\": -1.1100649106583311}, {\"values\": -0.3963143774146883}, {\"values\": -0.7281458358009253}, {\"values\": 0.8336705055092329}, {\"values\": -0.3506094683212493}, {\"values\": 0.9370895714722083}, {\"values\": -2.4334298314899727}, {\"values\": -0.9463244488657245}, {\"values\": 0.4223785198284739}, {\"values\": 0.34549374756505874}, {\"values\": -0.5371983565949061}, {\"values\": 0.06997280940606715}, {\"values\": 0.8078273287671563}, {\"values\": -0.7935922577612788}, {\"values\": -1.1234570060626377}, {\"values\": -0.28155370788810574}, {\"values\": 0.559815860858107}, {\"values\": 0.4231024331076525}, {\"values\": -1.1456770108438532}, {\"values\": 0.6686357601069897}, {\"values\": -0.42598533771926445}, {\"values\": -0.5020254430910537}, {\"values\": -0.9825729190861683}, {\"values\": -0.09908876287725499}, {\"values\": 0.6073995499247004}, {\"values\": -0.7674093222311364}, {\"values\": 0.4002618680281512}, {\"values\": -0.0982325470047382}, {\"values\": -0.1913171302719304}, {\"values\": 0.2750075893030613}, {\"values\": 0.9483860724551607}, {\"values\": -0.16708130121467296}, {\"values\": -0.5048732017060531}, {\"values\": -1.1902482918302526}, {\"values\": -0.6901361961597653}, {\"values\": 0.07614454630811378}, {\"values\": -1.0167483348088424}, {\"values\": -0.854270965948912}, {\"values\": -0.4635470759705886}, {\"values\": 0.3636467041020772}, {\"values\": 0.02664827016551827}, {\"values\": 0.5810901350307636}, {\"values\": 0.6423573647453165}, {\"values\": -0.9747307918239324}, {\"values\": -1.7968030978956886}, {\"values\": -0.8654289481469033}, {\"values\": 0.07468115431811802}, {\"values\": -0.5437050843495135}, {\"values\": 1.5178108046271461}, {\"values\": 1.1184450670002197}, {\"values\": -1.6799440827898031}, {\"values\": -1.8912172843490411}, {\"values\": -0.07892749225203474}, {\"values\": -0.08964172749303223}, {\"values\": -1.5282055369714076}, {\"values\": 1.3267530313329627}, {\"values\": 1.0047055476612132}, {\"values\": 1.1615201264293202}, {\"values\": 0.09285259303730384}, {\"values\": -0.049986302921374695}, {\"values\": -0.4962783129898076}, {\"values\": 2.960363440185355}, {\"values\": 0.14940078262104123}, {\"values\": -0.20921130438407773}, {\"values\": -0.8173449554084383}, {\"values\": 0.9966873506503112}, {\"values\": -1.1606442787715372}, {\"values\": 2.0648632368830215}, {\"values\": 0.8873686226316362}, {\"values\": 0.46224843036599306}, {\"values\": 0.6604464866321067}, {\"values\": 0.49181527058456315}, {\"values\": -0.5957310485945564}, {\"values\": -0.6119385945611944}, {\"values\": 0.01739367462050957}, {\"values\": -0.9503989525298315}, {\"values\": -0.4986819104969592}, {\"values\": 0.7313786324985352}, {\"values\": 0.037672771269995166}, {\"values\": 0.6627856281953911}, {\"values\": 1.3896755472342814}, {\"values\": -1.3001608313787658}, {\"values\": -0.7535418170823978}, {\"values\": 1.3782504971377563}, {\"values\": 1.1716943132970636}, {\"values\": 0.47182371137338414}, {\"values\": -0.07896313804787058}, {\"values\": -0.6115029503523632}, {\"values\": 0.846270254557242}, {\"values\": -0.5475193829727555}, {\"values\": -0.04848183945838703}, {\"values\": 1.6444505848913824}, {\"values\": -0.5825827937478664}, {\"values\": -0.7061622383305424}, {\"values\": -1.2509925310175558}, {\"values\": -0.8343963608476513}, {\"values\": -0.7856172655232854}, {\"values\": 1.0950025399965888}, {\"values\": -0.2667772117780685}, {\"values\": 1.0613793607401403}, {\"values\": 0.7053594279242236}, {\"values\": -0.867578027051664}, {\"values\": 2.082557662608024}, {\"values\": 0.8550987928739323}, {\"values\": -1.1085346493072226}, {\"values\": 0.43984258061349896}, {\"values\": 0.49664101363428675}, {\"values\": 1.4502722343407797}, {\"values\": 0.7181121063059456}, {\"values\": -1.852480415491196}, {\"values\": 0.5200678912400651}, {\"values\": 0.004363957983251412}, {\"values\": -0.7021364200263942}, {\"values\": 1.9552688043440123}, {\"values\": -0.5403599372766605}, {\"values\": -0.019597342589083966}, {\"values\": -1.205672805614606}, {\"values\": 0.3866647864842922}, {\"values\": -0.4201656704303488}, {\"values\": -1.0309557407747414}, {\"values\": 1.2770057784500597}, {\"values\": 1.9666363195362846}, {\"values\": 0.6145270189574749}, {\"values\": -0.8757298294268835}, {\"values\": 0.23297584922676123}, {\"values\": 1.4012856093192911}, {\"values\": 0.1923747272500206}, {\"values\": -0.0012051464170123264}, {\"values\": -0.0647135961625764}, {\"values\": -1.7470401501019626}, {\"values\": 0.6060723814870758}, {\"values\": 0.16262235178764142}, {\"values\": 0.8573048270113309}, {\"values\": 0.8924199151454433}, {\"values\": 1.3275836532551408}, {\"values\": -0.23902333388771885}, {\"values\": -0.21972723891322474}, {\"values\": -1.0053481561539968}, {\"values\": -1.6072656952923932}, {\"values\": -1.2155169673266066}, {\"values\": 1.2772553850100035}, {\"values\": -1.7129583646681015}, {\"values\": 0.6973524658553144}, {\"values\": 1.1755771742261152}, {\"values\": -0.1269691903302315}, {\"values\": -0.24605177389892519}, {\"values\": -1.0079753357038923}, {\"values\": -0.02134412043146004}, {\"values\": 0.1723122160933297}, {\"values\": 0.00974858401824089}, {\"values\": 1.6801271061157956}, {\"values\": -0.7643236891203038}, {\"values\": -0.7532118537997037}, {\"values\": -0.8802427214366458}, {\"values\": 1.6643304076153334}, {\"values\": -0.7455762718248261}, {\"values\": 0.0815608671456731}, {\"values\": -0.40648868446133435}, {\"values\": 0.0456821860049352}, {\"values\": 0.45095558374725037}, {\"values\": -0.8536216578284868}, {\"values\": 1.351732336979041}, {\"values\": -1.3771816214060368}, {\"values\": 0.9702897992477416}, {\"values\": -1.4585731525191439}, {\"values\": -0.1077355166516577}, {\"values\": -0.5208396189340225}, {\"values\": 1.0752862783698989}, {\"values\": -0.6630651361347325}, {\"values\": -2.0800138494507427}, {\"values\": 1.745882185282783}, {\"values\": 1.6911710557590551}, {\"values\": 0.7765990299536151}, {\"values\": 0.36084027968427723}, {\"values\": -0.040973349638583026}, {\"values\": 1.6035140951814417}, {\"values\": 0.24204173137624654}, {\"values\": 0.645013674111082}, {\"values\": -0.9478136410899769}, {\"values\": 0.06670417279122233}, {\"values\": 0.8007142217758755}, {\"values\": 0.34734528217928873}, {\"values\": 1.347003643905486}, {\"values\": -0.34221416558486817}, {\"values\": -0.5762724659562243}, {\"values\": 0.6761834895239158}, {\"values\": -1.2743574602680496}, {\"values\": -1.693890956270748}, {\"values\": -0.849716804525894}, {\"values\": 0.33988838927348264}, {\"values\": 0.06784373097568434}, {\"values\": 0.19019693057642137}, {\"values\": 0.07831740707196962}, {\"values\": -2.138574319363644}, {\"values\": 1.9685631325012376}, {\"values\": 0.5704902278470089}, {\"values\": 1.2852816354122272}, {\"values\": -1.4878459744127652}, {\"values\": 0.6493041385503499}, {\"values\": 0.5458984836125661}, {\"values\": 1.4067769068065241}, {\"values\": -0.22018240335989958}, {\"values\": 0.20775930694920738}, {\"values\": 0.46939656911190725}, {\"values\": -0.00932855224982017}, {\"values\": 0.7883532502905166}, {\"values\": 0.3626397235394121}, {\"values\": -0.1312613985297667}, {\"values\": -0.6630315209590246}, {\"values\": -1.0125218916086658}, {\"values\": 0.15962029832579536}, {\"values\": -0.36827521241007555}, {\"values\": 1.5066429182115593}, {\"values\": 1.944766747893039}, {\"values\": -0.6607094266345118}, {\"values\": -2.179072395143302}, {\"values\": -0.4146295606137038}, {\"values\": 0.5108463167952421}, {\"values\": 0.34236044877245636}, {\"values\": -0.460622957023415}, {\"values\": 0.36957316636190624}, {\"values\": 0.00420637379695967}, {\"values\": -1.150265837589021}, {\"values\": 2.426738661650014}, {\"values\": -0.14790629901677116}, {\"values\": -1.3838441443976983}, {\"values\": 1.1330377858289407}, {\"values\": -0.5165488263175476}, {\"values\": -0.2145233167648441}, {\"values\": -0.7355651182136289}, {\"values\": 1.179250184574425}, {\"values\": -0.5420556209671988}, {\"values\": 0.5262809315841903}, {\"values\": -1.3224558847178691}, {\"values\": -0.5785418110393759}, {\"values\": 0.08363846343375765}, {\"values\": -1.114920498005995}, {\"values\": 0.5310485125683032}, {\"values\": 0.9442019858124833}, {\"values\": -0.25894590817100055}, {\"values\": 0.18575749399645647}, {\"values\": -0.1986714496026841}, {\"values\": -0.03581515936417471}, {\"values\": 0.765659605371341}, {\"values\": 0.8323690966290845}, {\"values\": 1.092118306373452}, {\"values\": 1.6160022862021808}, {\"values\": -1.2283555860710609}, {\"values\": -0.9925350642771553}, {\"values\": -2.1250908283954204}, {\"values\": 0.16474698213654637}, {\"values\": -0.8227070414427103}, {\"values\": 0.22994062382058592}, {\"values\": -0.27869691653938494}, {\"values\": -1.7610868251238567}, {\"values\": 1.6203489752882572}, {\"values\": 0.16652830049985803}, {\"values\": -0.2445816127821099}, {\"values\": -0.31103837402537404}, {\"values\": 0.7582624420367595}, {\"values\": 1.168891989539095}, {\"values\": 1.8378779884656045}, {\"values\": -1.66311066466255}, {\"values\": -0.9559159971617699}, {\"values\": -1.8693360196324988}, {\"values\": 0.18444615520115581}, {\"values\": -1.3076478377685072}, {\"values\": -0.9233679400929822}, {\"values\": -0.40319734293859255}, {\"values\": 1.0817669827166738}, {\"values\": -0.2704463083022312}, {\"values\": -0.7946039327055112}, {\"values\": -1.6922877781921553}, {\"values\": 1.1043722616800236}, {\"values\": 0.2669573635759217}, {\"values\": -0.026850829769680735}, {\"values\": 0.4101774610349794}, {\"values\": 2.2016507734965858}, {\"values\": 0.09383285623599978}, {\"values\": -0.03518808772378917}, {\"values\": 2.76552653638519}, {\"values\": -2.1088074489512456}, {\"values\": 0.0032658985491188864}, {\"values\": -2.4820455715804606}, {\"values\": 0.8365644114415884}, {\"values\": -1.2197887027954935}, {\"values\": -0.1609296602521789}, {\"values\": -1.6544341413641284}, {\"values\": -0.30196285886497326}, {\"values\": -0.000871467811610768}, {\"values\": -0.16010008397780018}, {\"values\": -0.4646690030934279}, {\"values\": 0.42611601497140283}, {\"values\": -2.2593489943598652}, {\"values\": -0.006036669349185308}, {\"values\": -0.7477021650323423}, {\"values\": 2.857382179022306}, {\"values\": 0.06142902053832251}, {\"values\": 0.6888026163666153}, {\"values\": -1.1683114559185588}, {\"values\": -1.1939543377706254}, {\"values\": 1.9344868227997227}, {\"values\": 0.23988497394269642}, {\"values\": 0.7749362071392105}, {\"values\": 2.2886382588864347}, {\"values\": -1.443365964428545}, {\"values\": -0.7560984082642715}, {\"values\": -3.210228312342947}, {\"values\": -0.5628258183281352}, {\"values\": -1.2396530044685687}, {\"values\": 0.0965813207531155}, {\"values\": -0.9912081099050998}, {\"values\": 0.8985953723417285}, {\"values\": -0.8548494490063843}, {\"values\": -0.03113043327532957}, {\"values\": 1.4808221559000483}, {\"values\": -1.8800422861480812}, {\"values\": 0.17071939069468964}, {\"values\": -0.040028021083937645}, {\"values\": 1.5439039247512467}, {\"values\": 1.6167930605379424}, {\"values\": 0.7270760446546506}, {\"values\": -0.8697365866617178}, {\"values\": 1.3930661044064834}, {\"values\": -0.08640673545997221}, {\"values\": 0.9036362476545015}, {\"values\": 0.7868522879164309}, {\"values\": -0.8826842464120205}, {\"values\": -1.4731225437288762}, {\"values\": 0.05933472754043859}, {\"values\": -1.012460036452927}, {\"values\": -0.26088653001539297}, {\"values\": -0.13416397219935622}, {\"values\": -0.7683153562827214}, {\"values\": 0.24452453556473142}, {\"values\": 0.41570711096746366}, {\"values\": -2.051729574510417}, {\"values\": -0.7003279904151182}, {\"values\": 1.5551367614046199}, {\"values\": 0.6315971352724324}, {\"values\": 1.387162639593362}, {\"values\": -1.8184000911239149}, {\"values\": -0.9958620022853991}, {\"values\": 2.257538839105848}, {\"values\": 2.0687993382510736}, {\"values\": -1.4931850169454695}, {\"values\": 0.36950360672632804}, {\"values\": -0.23674716433183776}, {\"values\": -2.199242731681889}, {\"values\": -0.22895271920735022}, {\"values\": -0.8222899415095883}, {\"values\": -0.46877158375942296}, {\"values\": 1.3552896710893927}, {\"values\": 0.9976391294957893}, {\"values\": -0.18763184432328517}, {\"values\": -0.6215000457234852}, {\"values\": -0.8086160375394628}, {\"values\": -1.396299263627522}, {\"values\": -0.08479183848748295}, {\"values\": -0.7363699178642547}, {\"values\": 0.34117726852889446}, {\"values\": 2.2572476789089286}, {\"values\": 0.5188231038374528}, {\"values\": 1.524002668927553}, {\"values\": -0.9233008170471669}, {\"values\": -1.0809673923944074}, {\"values\": -0.7654462313521084}, {\"values\": -1.2106780902370275}, {\"values\": -0.3549514692324252}, {\"values\": -0.8154166395239114}, {\"values\": -0.5297099033289436}, {\"values\": -0.13455690613150406}, {\"values\": -0.2071668639285571}, {\"values\": -0.35710053233871375}, {\"values\": -0.708417165715627}, {\"values\": -1.0700022563440628}, {\"values\": -2.1921713591596794}, {\"values\": -0.010410035998181383}, {\"values\": 0.175592625280199}, {\"values\": 1.0549065767787449}, {\"values\": -0.7532543100545286}, {\"values\": -1.0041762406463661}, {\"values\": -0.6553659815950023}, {\"values\": -1.065349095088213}, {\"values\": -0.20974312309114793}, {\"values\": -0.428672460185725}, {\"values\": -0.165562586399928}, {\"values\": -1.5519718263503992}, {\"values\": -0.06655980700040529}, {\"values\": 0.45308129144203135}, {\"values\": -0.8016496302630816}, {\"values\": -1.318416874045684}, {\"values\": -0.7754710495280644}, {\"values\": -0.6695932120685472}, {\"values\": 0.2937122606715394}, {\"values\": 0.3863099243781605}, {\"values\": 2.1180656426269953}, {\"values\": 0.2415692729708158}, {\"values\": 0.7107793237713785}, {\"values\": 0.3575566449200048}, {\"values\": -0.7351183326542337}, {\"values\": -0.36173443979383124}, {\"values\": -2.2445023076013975}, {\"values\": -0.646345582005841}, {\"values\": 0.6764451229655788}, {\"values\": -1.892451392742733}, {\"values\": -1.4327274512182757}, {\"values\": -1.288251081739709}, {\"values\": 1.0921604551710704}, {\"values\": 0.8058954271110086}, {\"values\": -0.9172581261142125}, {\"values\": -0.7846820111056965}, {\"values\": -1.3662934366559938}, {\"values\": 1.0656970200501414}, {\"values\": 0.13227568401305623}, {\"values\": -0.12645109678905686}, {\"values\": 1.9724632656828756}, {\"values\": -0.9807166346226346}, {\"values\": -1.4800644734278763}, {\"values\": -1.3807554399153465}, {\"values\": -0.18506369659184083}, {\"values\": 0.33567491383049347}, {\"values\": 1.1239779565353771}, {\"values\": -1.1102306217105713}, {\"values\": 0.9909024149945767}, {\"values\": 2.371742218535007}, {\"values\": -0.06857614725147036}, {\"values\": 0.007981092981356847}, {\"values\": -1.330283132344896}, {\"values\": -0.7107428833786935}, {\"values\": -0.03802052753381435}, {\"values\": 0.5094809780699254}, {\"values\": 1.03037270603745}, {\"values\": -1.5927269196477747}, {\"values\": -2.1185870370807596}, {\"values\": -0.4402218607006526}, {\"values\": 0.5174816108353321}, {\"values\": 0.3158199709748122}, {\"values\": -1.1286538962036892}, {\"values\": 1.5970260777922451}, {\"values\": 2.306402252383965}, {\"values\": 1.9984157123771504}, {\"values\": -0.7811017228999999}, {\"values\": 0.5071982172786031}, {\"values\": -0.03384368733995163}, {\"values\": -1.5991833462863776}, {\"values\": -0.8078388473578294}, {\"values\": -0.48685587524412804}, {\"values\": 0.27386859474893327}, {\"values\": 0.42764431733680547}, {\"values\": 0.14746140885454787}, {\"values\": 0.5660059223790459}, {\"values\": -0.08187891595197436}, {\"values\": 0.16693344429279824}, {\"values\": 1.3234613392434749}, {\"values\": 1.1095353213084556}, {\"values\": -1.4800913616211921}, {\"values\": 0.7686309551451115}, {\"values\": -0.3519577728873113}, {\"values\": -0.26794338906690296}, {\"values\": -0.7833268004752496}, {\"values\": -0.6385651717886405}, {\"values\": -0.5372315102809986}, {\"values\": 1.0575127670551518}, {\"values\": -0.17126056010992546}, {\"values\": -1.7504121000674058}, {\"values\": -0.2978656252271669}, {\"values\": 1.7386631593044903}, {\"values\": -1.168181874912587}, {\"values\": -1.1981405528017823}, {\"values\": 0.6129152753977791}, {\"values\": 1.1165400916251433}, {\"values\": 0.021798991968748974}, {\"values\": 0.13772837616260705}, {\"values\": 0.6274023543359565}, {\"values\": 0.6830703382677482}, {\"values\": 0.5907849613510269}, {\"values\": 0.1414121208290711}, {\"values\": -0.5866368915083485}, {\"values\": -0.8131405640185099}, {\"values\": -1.1661030064276194}, {\"values\": 0.6503946907859824}, {\"values\": 0.22585965321381068}, {\"values\": -2.5174688220290133}, {\"values\": 0.009779717766586841}, {\"values\": -0.8109971101532287}, {\"values\": 0.4410404061314872}, {\"values\": 0.24398355305202057}, {\"values\": 1.8115115977954992}, {\"values\": -1.0405868093939643}, {\"values\": -0.2799742268555391}, {\"values\": -0.06179463074885832}, {\"values\": -0.6660552529467771}, {\"values\": 1.2803463873709335}, {\"values\": -0.2891551908403492}, {\"values\": 0.11560922734549774}, {\"values\": 1.7934100543016913}, {\"values\": -1.102656135076139}, {\"values\": 0.3531601255317358}, {\"values\": -0.4239436327000481}, {\"values\": -1.6987124791687265}, {\"values\": -1.1239568824226942}, {\"values\": 0.14332061714704886}, {\"values\": 1.2210633832293265}, {\"values\": -0.7623344302030401}, {\"values\": -1.5370915396607083}, {\"values\": 1.0730272714197793}, {\"values\": 0.5787477381021157}, {\"values\": -0.04110476185463711}, {\"values\": -0.8425566404116541}, {\"values\": 0.01238132607100364}, {\"values\": 0.2052860305078537}, {\"values\": -0.38357666037247523}, {\"values\": 0.3328485526211388}, {\"values\": -3.292413777608328}, {\"values\": -0.2475955671085959}, {\"values\": 0.3831481891050794}, {\"values\": -1.3623979935040271}, {\"values\": 0.36585959550307107}, {\"values\": 1.0561154584616876}, {\"values\": 0.6680736968856764}, {\"values\": 1.1152813840158033}, {\"values\": -1.7015327363864563}, {\"values\": -0.5247732464311458}, {\"values\": 1.5949916848998524}, {\"values\": -0.5586833152359177}, {\"values\": 1.6653482733418805}, {\"values\": -2.111672387765576}, {\"values\": 0.12295920946103141}, {\"values\": -0.7431928302294399}, {\"values\": 2.1334434494188126}, {\"values\": -0.17669541324541974}, {\"values\": -1.3334234267795861}, {\"values\": 0.7834960110441465}, {\"values\": 0.5794719384380841}, {\"values\": -0.726762666002363}, {\"values\": -0.7476728888291329}, {\"values\": -2.119516049332704}, {\"values\": -0.23643427472719256}, {\"values\": 0.12645656213635736}, {\"values\": 1.464213017625025}, {\"values\": 1.5955969408048327}, {\"values\": 0.9698341754886102}, {\"values\": -0.721167080623893}, {\"values\": 0.7958844759046607}, {\"values\": -0.2458515264094353}, {\"values\": 1.682112908089123}, {\"values\": -0.6727669204162873}, {\"values\": -0.651094910770766}, {\"values\": 1.460831576508357}, {\"values\": -0.644609012630648}, {\"values\": -0.6837553472345441}, {\"values\": 0.9382842984316494}, {\"values\": -1.1788844220464763}, {\"values\": 0.5086090237600338}, {\"values\": 0.40623952311248485}, {\"values\": 0.07526415829264059}, {\"values\": -0.3657530012052042}, {\"values\": -2.1485386201960344}, {\"values\": 0.8338640503476686}, {\"values\": 0.7195030659015397}, {\"values\": 1.9544125001990174}, {\"values\": -1.5927865342790877}, {\"values\": 1.354759819860885}, {\"values\": 1.0422814514771848}, {\"values\": 0.28023499594635054}, {\"values\": 0.16477103848588498}, {\"values\": 1.3158867805228738}, {\"values\": 0.22982889489201516}, {\"values\": -0.4023212162381659}, {\"values\": 2.013723046397019}, {\"values\": -1.4739202638062603}, {\"values\": -0.3929703946120855}, {\"values\": 1.4637303105801662}, {\"values\": 0.3758374875023602}, {\"values\": -0.2664150818810474}, {\"values\": -1.5914991824641556}, {\"values\": 0.2207357699887893}, {\"values\": -0.3049934526320648}, {\"values\": 1.3984804496964818}, {\"values\": -2.0453441363163427}, {\"values\": 0.2051520980794058}, {\"values\": -0.695179433242699}, {\"values\": 0.666429287697537}, {\"values\": -0.8721183904376995}, {\"values\": -0.877062498731791}, {\"values\": 0.2674803023480213}, {\"values\": 0.336026460536389}, {\"values\": 0.8239331276694423}, {\"values\": -0.8501868630806139}, {\"values\": 0.09352687920645476}, {\"values\": -0.4577509995143665}, {\"values\": -1.0667516410966236}, {\"values\": -1.9744913319850055}, {\"values\": -1.4328093684970815}, {\"values\": -0.17717226203980252}, {\"values\": 0.1892418979187203}, {\"values\": 1.749720688791844}, {\"values\": 1.9747074109916423}, {\"values\": 1.2613456166575507}, {\"values\": 0.8076366837126601}, {\"values\": -0.8944526979150338}, {\"values\": -0.29158577965107124}, {\"values\": 0.07323904072894609}, {\"values\": 0.21861392871737345}, {\"values\": -0.5877126073614796}, {\"values\": -1.5661304833733258}, {\"values\": 0.39005912620828204}, {\"values\": 0.8467638881221607}, {\"values\": 1.0720037931959947}, {\"values\": -0.5015722689174028}, {\"values\": -0.3987573357323377}, {\"values\": -0.27196742316794537}, {\"values\": 1.1202096963855668}, {\"values\": 0.04806607738103427}]}}, {\"mode\": \"vega-lite\"});\n",
              "</script>"
            ],
            "text/plain": [
              "alt.Chart(...)"
            ]
          },
          "metadata": {},
          "execution_count": 5
        }
      ],
      "source": [
        "# Creating a histogram\n",
        "data = pd.DataFrame({\n",
        "    'values': np.random.normal(0, 1, size=1000)\n",
        "})\n",
        "\n",
        "histogram = alt.Chart(data).mark_bar().encode(\n",
        "    alt.X('values', bin=alt.Bin(maxbins=30)),\n",
        "    y='count()'\n",
        ").properties(\n",
        "    title='Histogram'\n",
        ")\n",
        "\n",
        "histogram"
      ]
    },
    {
      "cell_type": "markdown",
      "id": "a2985609",
      "metadata": {
        "id": "a2985609"
      },
      "source": [
        "## 6. Scatter Plot with Color Encoding"
      ]
    },
    {
      "cell_type": "code",
      "execution_count": 6,
      "id": "23573c11",
      "metadata": {
        "colab": {
          "base_uri": "https://localhost:8080/",
          "height": 385
        },
        "id": "23573c11",
        "outputId": "fcd07383-8874-4eb1-a06e-7d2724cfb869"
      },
      "outputs": [
        {
          "output_type": "execute_result",
          "data": {
            "text/html": [
              "\n",
              "<div id=\"altair-viz-026df75752fa47dea910a47df4379833\"></div>\n",
              "<script type=\"text/javascript\">\n",
              "  var VEGA_DEBUG = (typeof VEGA_DEBUG == \"undefined\") ? {} : VEGA_DEBUG;\n",
              "  (function(spec, embedOpt){\n",
              "    let outputDiv = document.currentScript.previousElementSibling;\n",
              "    if (outputDiv.id !== \"altair-viz-026df75752fa47dea910a47df4379833\") {\n",
              "      outputDiv = document.getElementById(\"altair-viz-026df75752fa47dea910a47df4379833\");\n",
              "    }\n",
              "    const paths = {\n",
              "      \"vega\": \"https://cdn.jsdelivr.net/npm//vega@5?noext\",\n",
              "      \"vega-lib\": \"https://cdn.jsdelivr.net/npm//vega-lib?noext\",\n",
              "      \"vega-lite\": \"https://cdn.jsdelivr.net/npm//vega-lite@4.17.0?noext\",\n",
              "      \"vega-embed\": \"https://cdn.jsdelivr.net/npm//vega-embed@6?noext\",\n",
              "    };\n",
              "\n",
              "    function maybeLoadScript(lib, version) {\n",
              "      var key = `${lib.replace(\"-\", \"\")}_version`;\n",
              "      return (VEGA_DEBUG[key] == version) ?\n",
              "        Promise.resolve(paths[lib]) :\n",
              "        new Promise(function(resolve, reject) {\n",
              "          var s = document.createElement('script');\n",
              "          document.getElementsByTagName(\"head\")[0].appendChild(s);\n",
              "          s.async = true;\n",
              "          s.onload = () => {\n",
              "            VEGA_DEBUG[key] = version;\n",
              "            return resolve(paths[lib]);\n",
              "          };\n",
              "          s.onerror = () => reject(`Error loading script: ${paths[lib]}`);\n",
              "          s.src = paths[lib];\n",
              "        });\n",
              "    }\n",
              "\n",
              "    function showError(err) {\n",
              "      outputDiv.innerHTML = `<div class=\"error\" style=\"color:red;\">${err}</div>`;\n",
              "      throw err;\n",
              "    }\n",
              "\n",
              "    function displayChart(vegaEmbed) {\n",
              "      vegaEmbed(outputDiv, spec, embedOpt)\n",
              "        .catch(err => showError(`Javascript Error: ${err.message}<br>This usually means there's a typo in your chart specification. See the javascript console for the full traceback.`));\n",
              "    }\n",
              "\n",
              "    if(typeof define === \"function\" && define.amd) {\n",
              "      requirejs.config({paths});\n",
              "      require([\"vega-embed\"], displayChart, err => showError(`Error loading script: ${err.message}`));\n",
              "    } else {\n",
              "      maybeLoadScript(\"vega\", \"5\")\n",
              "        .then(() => maybeLoadScript(\"vega-lite\", \"4.17.0\"))\n",
              "        .then(() => maybeLoadScript(\"vega-embed\", \"6\"))\n",
              "        .catch(showError)\n",
              "        .then(() => displayChart(vegaEmbed));\n",
              "    }\n",
              "  })({\"config\": {\"view\": {\"continuousWidth\": 400, \"continuousHeight\": 300}}, \"data\": {\"name\": \"data-13c87b4ab10d39e3236217684bcc2b58\"}, \"mark\": {\"type\": \"circle\", \"size\": 60}, \"encoding\": {\"color\": {\"field\": \"category\", \"type\": \"nominal\"}, \"x\": {\"field\": \"x\", \"type\": \"quantitative\"}, \"y\": {\"field\": \"y\", \"type\": \"quantitative\"}}, \"title\": \"Scatter Plot with Color Encoding\", \"$schema\": \"https://vega.github.io/schema/vega-lite/v4.17.0.json\", \"datasets\": {\"data-13c87b4ab10d39e3236217684bcc2b58\": [{\"x\": -0.6069422144323541, \"y\": 1.7315526071809886, \"category\": \"B\"}, {\"x\": 0.11245916669791305, \"y\": 0.9044567390782022, \"category\": \"C\"}, {\"x\": 2.081839716597641, \"y\": -1.0652226047138769, \"category\": \"C\"}, {\"x\": 1.3303088957446714, \"y\": 1.6269596344140276, \"category\": \"A\"}, {\"x\": 1.2077159504717212, \"y\": 1.0903430054686647, \"category\": \"A\"}, {\"x\": 1.9272784295001801, \"y\": 0.24151818809508144, \"category\": \"C\"}, {\"x\": -0.06384584693750128, \"y\": 0.23002801492858155, \"category\": \"C\"}, {\"x\": 0.32647922762987047, \"y\": 0.6886645502346433, \"category\": \"C\"}, {\"x\": 0.22650614596167393, \"y\": -0.7983357812252768, \"category\": \"B\"}, {\"x\": -0.4425440750821324, \"y\": 1.4781347012689297, \"category\": \"A\"}, {\"x\": -0.0011915081031562153, \"y\": 1.5273718456870846, \"category\": \"A\"}, {\"x\": -1.9830173855887983, \"y\": 0.18112334206281563, \"category\": \"B\"}, {\"x\": -0.4611976411756814, \"y\": 0.060593674281776255, \"category\": \"B\"}, {\"x\": -1.0084648992380145, \"y\": -0.639200572484025, \"category\": \"C\"}, {\"x\": -0.880357216403317, \"y\": 0.8998201623917272, \"category\": \"C\"}, {\"x\": -0.11223527903123576, \"y\": 0.32790163865098576, \"category\": \"B\"}, {\"x\": -0.3473578906985832, \"y\": 0.587555620143364, \"category\": \"B\"}, {\"x\": -0.0660234523836838, \"y\": 0.2852040439787678, \"category\": \"A\"}, {\"x\": 0.5379668499950391, \"y\": 0.6324904770196637, \"category\": \"A\"}, {\"x\": 0.016997266954149198, \"y\": 0.20549041568061385, \"category\": \"B\"}, {\"x\": 0.5070551550067952, \"y\": -1.575714750275845, \"category\": \"B\"}, {\"x\": 0.7296589118461343, \"y\": -1.4475675519298454, \"category\": \"C\"}, {\"x\": -0.06460133804138621, \"y\": 0.9505029823907338, \"category\": \"A\"}, {\"x\": -0.09683838210811217, \"y\": 1.3859523106155542, \"category\": \"B\"}, {\"x\": 1.5053457745834031, \"y\": -0.011241816624969925, \"category\": \"B\"}, {\"x\": 2.0137141776694194, \"y\": 0.5334570870781051, \"category\": \"A\"}, {\"x\": 1.009690194797778, \"y\": 0.1898784548156225, \"category\": \"C\"}, {\"x\": 0.14154795172625362, \"y\": -0.03561239156470217, \"category\": \"A\"}, {\"x\": 0.38669361699444493, \"y\": -1.5922458732382947, \"category\": \"B\"}, {\"x\": 1.2546133224321598, \"y\": -0.5101479697234292, \"category\": \"C\"}, {\"x\": 0.8882449970534569, \"y\": 0.8311855712560017, \"category\": \"C\"}, {\"x\": 0.71609305673504, \"y\": 0.6727614862493209, \"category\": \"C\"}, {\"x\": 0.7046005118285251, \"y\": 0.3330969806339793, \"category\": \"A\"}, {\"x\": -1.1541876860072076, \"y\": 0.5928787992185593, \"category\": \"A\"}, {\"x\": -0.8865437914007546, \"y\": 0.822772415147003, \"category\": \"B\"}, {\"x\": -0.3172992254166853, \"y\": -0.04310010059909448, \"category\": \"A\"}, {\"x\": -0.3597057435398992, \"y\": -0.547092761344846, \"category\": \"A\"}, {\"x\": -1.1731185869671752, \"y\": -1.142477140519906, \"category\": \"C\"}, {\"x\": -0.47146675817956385, \"y\": -0.37484994078264533, \"category\": \"B\"}, {\"x\": -0.17032954073485176, \"y\": 0.22871225036552703, \"category\": \"A\"}, {\"x\": 0.06251583667970509, \"y\": -0.9303386667687554, \"category\": \"B\"}, {\"x\": -0.2858539860530377, \"y\": 0.2642940121331783, \"category\": \"A\"}, {\"x\": 0.11346238705217294, \"y\": -1.2065252907051716, \"category\": \"B\"}, {\"x\": 0.3951986779569667, \"y\": 1.6494038913995943, \"category\": \"B\"}, {\"x\": 0.7432102206193909, \"y\": 0.34931898360974506, \"category\": \"A\"}, {\"x\": -0.13019142939952633, \"y\": -0.39290475921121815, \"category\": \"C\"}, {\"x\": -0.7306452961831951, \"y\": 0.05081872427946008, \"category\": \"C\"}, {\"x\": 0.3406834490987094, \"y\": 2.0187437047766426, \"category\": \"A\"}, {\"x\": 1.3760259886039479, \"y\": 1.3448230596617499, \"category\": \"A\"}, {\"x\": 0.15587453749519928, \"y\": -0.31209343360856656, \"category\": \"C\"}, {\"x\": 1.083981593720318, \"y\": 1.4583339554183787, \"category\": \"B\"}, {\"x\": 0.4972559420508018, \"y\": -1.7141286615117448, \"category\": \"B\"}, {\"x\": -1.2855124909661122, \"y\": -0.7211142509452669, \"category\": \"B\"}, {\"x\": -1.4317350555932538, \"y\": -1.1767424231083294, \"category\": \"A\"}, {\"x\": -0.20228349185609426, \"y\": -0.3363082294786005, \"category\": \"C\"}, {\"x\": -0.2522880491307669, \"y\": 0.6371908641446733, \"category\": \"B\"}, {\"x\": -0.7146585516344723, \"y\": -0.19828483977686978, \"category\": \"C\"}, {\"x\": 1.7541582224896435, \"y\": 0.18331963673152152, \"category\": \"A\"}, {\"x\": 0.49630003548916934, \"y\": 1.8974385863561838, \"category\": \"B\"}, {\"x\": 0.8566081096812398, \"y\": -0.8364148713917158, \"category\": \"A\"}, {\"x\": -0.012079415810946334, \"y\": 0.1390337337049298, \"category\": \"B\"}, {\"x\": -0.5774592783783701, \"y\": -0.17276479920452265, \"category\": \"A\"}, {\"x\": -1.094265132758594, \"y\": -1.2283978627779046, \"category\": \"B\"}, {\"x\": 1.0187471417984684, \"y\": 0.49210862092967933, \"category\": \"A\"}, {\"x\": 0.9279577967942723, \"y\": 0.04815239579767899, \"category\": \"B\"}, {\"x\": 1.223029812169729, \"y\": -0.018941841202170694, \"category\": \"C\"}, {\"x\": -0.9766883572005066, \"y\": 0.5279392117382441, \"category\": \"C\"}, {\"x\": 0.7522877222997668, \"y\": 0.9568191109059873, \"category\": \"B\"}, {\"x\": -1.3366430365861222, \"y\": 1.1900040770674034, \"category\": \"B\"}, {\"x\": -1.0582975115353304, \"y\": 0.3572509652984448, \"category\": \"B\"}, {\"x\": 1.8263923064039236, \"y\": 0.23224554287264706, \"category\": \"B\"}, {\"x\": -1.8896285622333182, \"y\": -0.05549314958089869, \"category\": \"C\"}, {\"x\": 0.5578796693201501, \"y\": -0.029172443051098406, \"category\": \"C\"}, {\"x\": 0.25858135522169773, \"y\": 0.37037592921114415, \"category\": \"C\"}, {\"x\": 1.7537671597840832, \"y\": 0.6709747320900817, \"category\": \"A\"}, {\"x\": 2.2707531402979257, \"y\": 0.5053836843673984, \"category\": \"C\"}, {\"x\": 1.1358583535324334, \"y\": 1.09017525767327, \"category\": \"A\"}, {\"x\": -0.27058197946782075, \"y\": -0.33385807149913976, \"category\": \"B\"}, {\"x\": -0.8182463838638184, \"y\": 0.9463460027789662, \"category\": \"B\"}, {\"x\": -0.28122514787871, \"y\": 1.9457760489195313, \"category\": \"B\"}, {\"x\": -0.34107678732443825, \"y\": -0.1506135432318843, \"category\": \"B\"}, {\"x\": 0.6512678019555231, \"y\": -0.6956240027302193, \"category\": \"C\"}, {\"x\": 0.03022850476774187, \"y\": 1.9510103223000093, \"category\": \"C\"}, {\"x\": 1.5198234587184427, \"y\": -0.8689022455370549, \"category\": \"C\"}, {\"x\": 1.7716427637325227, \"y\": -1.0765335735640744, \"category\": \"B\"}, {\"x\": 0.44050906692014696, \"y\": -1.8425262836200256, \"category\": \"A\"}, {\"x\": -1.0940503189861002, \"y\": 0.6748413169597279, \"category\": \"B\"}, {\"x\": 1.1129346732500351, \"y\": 0.2933283356967205, \"category\": \"A\"}, {\"x\": -0.4451482945730274, \"y\": -1.3887744546040761, \"category\": \"B\"}, {\"x\": -0.23599529193118887, \"y\": 0.5512715368262161, \"category\": \"C\"}, {\"x\": 0.4885260069170725, \"y\": -0.8842549140652707, \"category\": \"C\"}, {\"x\": -0.19786274093984446, \"y\": 0.8221504052566174, \"category\": \"C\"}, {\"x\": -0.38199830519195044, \"y\": -0.9276477939049331, \"category\": \"A\"}, {\"x\": -1.1893525749482354, \"y\": 0.8538384052266693, \"category\": \"C\"}, {\"x\": 0.2697378232987815, \"y\": -0.7957693743102211, \"category\": \"A\"}, {\"x\": 1.404208140982135, \"y\": -0.7072375156442939, \"category\": \"C\"}, {\"x\": -1.0901750744778524, \"y\": -1.271314512879202, \"category\": \"A\"}, {\"x\": 0.6978067231866933, \"y\": -0.8462420607037107, \"category\": \"C\"}, {\"x\": 1.9602617413658823, \"y\": -0.3066969010334928, \"category\": \"B\"}, {\"x\": -0.7661292918453689, \"y\": -1.732672010787517, \"category\": \"B\"}, {\"x\": 1.671288686157953, \"y\": -1.0751106155455887, \"category\": \"A\"}, {\"x\": 1.7428892792835127, \"y\": -0.37915811380263126, \"category\": \"B\"}, {\"x\": -0.1826266033142544, \"y\": 1.6652452618971332, \"category\": \"C\"}, {\"x\": -1.9324427364445071, \"y\": -0.883457286343931, \"category\": \"B\"}, {\"x\": 0.7861975970759854, \"y\": -0.7232095547685362, \"category\": \"B\"}, {\"x\": -0.00744851667233002, \"y\": 0.11595979272721504, \"category\": \"B\"}, {\"x\": 0.2322649300600391, \"y\": 1.819804698542069, \"category\": \"B\"}, {\"x\": 1.2245407852021069, \"y\": 1.0145244540612497, \"category\": \"B\"}, {\"x\": 0.9959780317653947, \"y\": -0.11337651512063894, \"category\": \"A\"}, {\"x\": -1.1989397500529224, \"y\": 1.5161346131704225, \"category\": \"B\"}, {\"x\": 0.8545788513851713, \"y\": 0.8671372864794469, \"category\": \"B\"}, {\"x\": -0.28348875932710077, \"y\": -1.2773429625395427, \"category\": \"B\"}, {\"x\": -1.1744378430092501, \"y\": 0.9898162707898303, \"category\": \"C\"}, {\"x\": -0.27083826440988673, \"y\": 1.4951167604638054, \"category\": \"C\"}, {\"x\": 0.200046319024735, \"y\": 0.23094054295593755, \"category\": \"C\"}, {\"x\": 1.4331188073392551, \"y\": 0.9733611698317716, \"category\": \"B\"}, {\"x\": 1.0888648127460283, \"y\": 0.5448413994229115, \"category\": \"A\"}, {\"x\": -1.142337553045074, \"y\": 0.7193404219760078, \"category\": \"C\"}, {\"x\": -0.9111112022039672, \"y\": -0.06402637192545078, \"category\": \"A\"}, {\"x\": 0.43225334968964246, \"y\": 0.9418681391828477, \"category\": \"B\"}, {\"x\": -0.875549859986311, \"y\": -0.1583909223455369, \"category\": \"C\"}, {\"x\": -0.2374592530781047, \"y\": -1.0885817906553086, \"category\": \"C\"}, {\"x\": -1.6596526064140955, \"y\": -0.4135076030946938, \"category\": \"B\"}, {\"x\": 1.4397727889641778, \"y\": 0.08466886698578181, \"category\": \"C\"}, {\"x\": -0.3223908678853973, \"y\": -0.5034952952933746, \"category\": \"B\"}, {\"x\": 0.12555902753624398, \"y\": -1.2011463534237727, \"category\": \"B\"}, {\"x\": -0.10585366372177879, \"y\": -1.0876795643307693, \"category\": \"A\"}, {\"x\": -1.2634160547726216, \"y\": -1.858861603118674, \"category\": \"C\"}, {\"x\": -1.392494782412013, \"y\": 0.29764051335390496, \"category\": \"C\"}, {\"x\": 0.07029388702672375, \"y\": 1.075393287864528, \"category\": \"A\"}, {\"x\": -0.8261400557154887, \"y\": -1.2804722473257437, \"category\": \"A\"}, {\"x\": 0.7156736683880792, \"y\": 0.316675076645305, \"category\": \"C\"}, {\"x\": 0.13539660366867798, \"y\": 1.3729776056548284, \"category\": \"C\"}, {\"x\": -0.1821552892536397, \"y\": -0.30057161883048256, \"category\": \"B\"}, {\"x\": 0.2981311903538862, \"y\": 1.7409595465200502, \"category\": \"C\"}, {\"x\": -0.039767972036890704, \"y\": -1.972562358029389, \"category\": \"B\"}, {\"x\": 1.5203444886520463, \"y\": 1.0000822782455445, \"category\": \"A\"}, {\"x\": -0.09976074638257851, \"y\": -0.007585670337162961, \"category\": \"A\"}, {\"x\": -1.0790962653402143, \"y\": -0.20004642689864027, \"category\": \"B\"}, {\"x\": 1.8696962921027718, \"y\": 1.4562591629314112, \"category\": \"C\"}, {\"x\": -1.7013747138007032, \"y\": -0.9000303864045714, \"category\": \"B\"}, {\"x\": -0.932186818506261, \"y\": -0.2937391493984148, \"category\": \"C\"}, {\"x\": -1.1026839463952092, \"y\": -1.484470479679111, \"category\": \"B\"}, {\"x\": -0.39671647545246724, \"y\": 0.1229859800276157, \"category\": \"B\"}, {\"x\": -0.7003509199633793, \"y\": -0.5300729826590577, \"category\": \"A\"}, {\"x\": 0.4228559973941982, \"y\": 0.5561838020571803, \"category\": \"C\"}, {\"x\": -0.14752653803043, \"y\": -0.5214661297732298, \"category\": \"B\"}, {\"x\": 0.23984666140556393, \"y\": -0.5805975654604087, \"category\": \"A\"}, {\"x\": -0.29407634117408127, \"y\": 1.2141130765413026, \"category\": \"B\"}, {\"x\": 0.9543066339465606, \"y\": -0.4035870884346995, \"category\": \"C\"}, {\"x\": -1.6133077865247978, \"y\": 0.27585515270126576, \"category\": \"A\"}, {\"x\": 1.012242866799944, \"y\": -2.8675992242690356, \"category\": \"A\"}, {\"x\": 0.6555568112048447, \"y\": 0.5174559088191919, \"category\": \"A\"}, {\"x\": 0.6157796502331093, \"y\": 0.7861469391796372, \"category\": \"B\"}, {\"x\": 0.659400962446123, \"y\": 1.0583164620807524, \"category\": \"A\"}, {\"x\": -1.7392239839586754, \"y\": 0.47657622968438546, \"category\": \"A\"}, {\"x\": 0.3585621044650384, \"y\": 2.0471388344709895, \"category\": \"C\"}, {\"x\": 0.40990829497594183, \"y\": -1.660711943020362, \"category\": \"C\"}, {\"x\": 0.16434098062960775, \"y\": -0.4004355707060106, \"category\": \"C\"}, {\"x\": 1.158559476425936, \"y\": 1.0796348328329108, \"category\": \"A\"}, {\"x\": -0.7443006163812325, \"y\": 0.18900706156097513, \"category\": \"A\"}, {\"x\": -1.2781720652636455, \"y\": -0.4057672016238141, \"category\": \"B\"}, {\"x\": 0.27032918933760525, \"y\": -0.21284751817094089, \"category\": \"C\"}, {\"x\": -0.9971513160197336, \"y\": 0.4659506507127864, \"category\": \"A\"}, {\"x\": -0.2539823200377827, \"y\": -1.3625980813898286, \"category\": \"B\"}, {\"x\": -0.8269024137648054, \"y\": -1.1981143608783023, \"category\": \"C\"}, {\"x\": 0.6401477906247145, \"y\": 0.943078423575228, \"category\": \"C\"}, {\"x\": 0.5572855775081191, \"y\": 1.1491959746292058, \"category\": \"B\"}, {\"x\": 1.7447617670981586, \"y\": -0.017101381115375437, \"category\": \"C\"}, {\"x\": 0.6566533050794987, \"y\": -0.641133729746413, \"category\": \"C\"}, {\"x\": -2.7300491848431707, \"y\": -1.3509392398603974, \"category\": \"B\"}, {\"x\": -1.3938986276372483, \"y\": -1.2757977473111424, \"category\": \"A\"}, {\"x\": 0.008111326542290088, \"y\": -0.8480420267932387, \"category\": \"A\"}, {\"x\": 1.4860615998713385, \"y\": -0.37848443046636016, \"category\": \"C\"}, {\"x\": 1.0457954730622894, \"y\": 0.4708132250544838, \"category\": \"C\"}, {\"x\": 0.030475595630280055, \"y\": 0.3705051951029591, \"category\": \"A\"}, {\"x\": 1.0599684647090155, \"y\": -0.704457784680321, \"category\": \"A\"}, {\"x\": 0.603114571659033, \"y\": -0.3346966828909402, \"category\": \"C\"}, {\"x\": -0.41290281781417304, \"y\": -0.635695023768291, \"category\": \"A\"}, {\"x\": -0.5657959144893767, \"y\": -0.9467194891720909, \"category\": \"B\"}, {\"x\": 0.1377175882458821, \"y\": -0.2733474889687476, \"category\": \"A\"}, {\"x\": -0.49211782209413385, \"y\": -1.191050416658107, \"category\": \"B\"}, {\"x\": 0.029745832441899753, \"y\": -0.08163425586068554, \"category\": \"B\"}, {\"x\": -2.224123157336613, \"y\": 1.2541270739487425, \"category\": \"A\"}, {\"x\": -0.6113929497561486, \"y\": -0.4902222373591069, \"category\": \"B\"}, {\"x\": 0.0005820615046474646, \"y\": 1.8038622173912968, \"category\": \"C\"}, {\"x\": 0.9070883232042565, \"y\": -0.24783256257436787, \"category\": \"C\"}, {\"x\": 1.661385633357815, \"y\": -1.785124597741694, \"category\": \"A\"}, {\"x\": -0.11041689805541932, \"y\": 1.2257043802065393, \"category\": \"A\"}, {\"x\": 1.1195259491552894, \"y\": -0.5523039236093448, \"category\": \"A\"}, {\"x\": -0.09314384780109862, \"y\": -0.5989942783032854, \"category\": \"C\"}, {\"x\": 0.6986618870295737, \"y\": -0.0023325829661218476, \"category\": \"B\"}, {\"x\": -0.22694890614689384, \"y\": -0.034272677585935, \"category\": \"C\"}, {\"x\": -2.368926273192404, \"y\": 0.1908919962273354, \"category\": \"B\"}, {\"x\": -1.3750678533506429, \"y\": 0.7921018695300389, \"category\": \"C\"}, {\"x\": -0.930513843193965, \"y\": 0.427358011244927, \"category\": \"A\"}, {\"x\": 1.3985494592253016, \"y\": -0.0020153915058305143, \"category\": \"A\"}, {\"x\": -0.4981761730904487, \"y\": 0.6272356332198775, \"category\": \"A\"}, {\"x\": 0.2292226162873403, \"y\": 1.1849081165328643, \"category\": \"B\"}, {\"x\": -1.6141408382465277, \"y\": 0.2871112569450794, \"category\": \"A\"}]}}, {\"mode\": \"vega-lite\"});\n",
              "</script>"
            ],
            "text/plain": [
              "alt.Chart(...)"
            ]
          },
          "metadata": {},
          "execution_count": 6
        }
      ],
      "source": [
        "# Creating a scatter plot with color encoding\n",
        "data = pd.DataFrame({\n",
        "    'x': np.random.randn(200),\n",
        "    'y': np.random.randn(200),\n",
        "    'category': np.random.choice(['A', 'B', 'C'], size=200)\n",
        "})\n",
        "\n",
        "scatter_plot_color = alt.Chart(data).mark_circle(size=60).encode(\n",
        "    x='x',\n",
        "    y='y',\n",
        "    color='category'\n",
        ").properties(\n",
        "    title='Scatter Plot with Color Encoding'\n",
        ")\n",
        "\n",
        "scatter_plot_color"
      ]
    },
    {
      "cell_type": "markdown",
      "id": "0ae17850",
      "metadata": {
        "id": "0ae17850"
      },
      "source": [
        "## 7. Pie Charts"
      ]
    },
    {
      "cell_type": "code",
      "execution_count": 7,
      "id": "cff3b882",
      "metadata": {
        "colab": {
          "base_uri": "https://localhost:8080/",
          "height": 348
        },
        "id": "cff3b882",
        "outputId": "f6496e5f-93a7-47c0-a38a-d2c7db1b4826"
      },
      "outputs": [
        {
          "output_type": "execute_result",
          "data": {
            "text/html": [
              "\n",
              "<div id=\"altair-viz-b44fbe25988344079cc1ad8dcbabb0e9\"></div>\n",
              "<script type=\"text/javascript\">\n",
              "  var VEGA_DEBUG = (typeof VEGA_DEBUG == \"undefined\") ? {} : VEGA_DEBUG;\n",
              "  (function(spec, embedOpt){\n",
              "    let outputDiv = document.currentScript.previousElementSibling;\n",
              "    if (outputDiv.id !== \"altair-viz-b44fbe25988344079cc1ad8dcbabb0e9\") {\n",
              "      outputDiv = document.getElementById(\"altair-viz-b44fbe25988344079cc1ad8dcbabb0e9\");\n",
              "    }\n",
              "    const paths = {\n",
              "      \"vega\": \"https://cdn.jsdelivr.net/npm//vega@5?noext\",\n",
              "      \"vega-lib\": \"https://cdn.jsdelivr.net/npm//vega-lib?noext\",\n",
              "      \"vega-lite\": \"https://cdn.jsdelivr.net/npm//vega-lite@4.17.0?noext\",\n",
              "      \"vega-embed\": \"https://cdn.jsdelivr.net/npm//vega-embed@6?noext\",\n",
              "    };\n",
              "\n",
              "    function maybeLoadScript(lib, version) {\n",
              "      var key = `${lib.replace(\"-\", \"\")}_version`;\n",
              "      return (VEGA_DEBUG[key] == version) ?\n",
              "        Promise.resolve(paths[lib]) :\n",
              "        new Promise(function(resolve, reject) {\n",
              "          var s = document.createElement('script');\n",
              "          document.getElementsByTagName(\"head\")[0].appendChild(s);\n",
              "          s.async = true;\n",
              "          s.onload = () => {\n",
              "            VEGA_DEBUG[key] = version;\n",
              "            return resolve(paths[lib]);\n",
              "          };\n",
              "          s.onerror = () => reject(`Error loading script: ${paths[lib]}`);\n",
              "          s.src = paths[lib];\n",
              "        });\n",
              "    }\n",
              "\n",
              "    function showError(err) {\n",
              "      outputDiv.innerHTML = `<div class=\"error\" style=\"color:red;\">${err}</div>`;\n",
              "      throw err;\n",
              "    }\n",
              "\n",
              "    function displayChart(vegaEmbed) {\n",
              "      vegaEmbed(outputDiv, spec, embedOpt)\n",
              "        .catch(err => showError(`Javascript Error: ${err.message}<br>This usually means there's a typo in your chart specification. See the javascript console for the full traceback.`));\n",
              "    }\n",
              "\n",
              "    if(typeof define === \"function\" && define.amd) {\n",
              "      requirejs.config({paths});\n",
              "      require([\"vega-embed\"], displayChart, err => showError(`Error loading script: ${err.message}`));\n",
              "    } else {\n",
              "      maybeLoadScript(\"vega\", \"5\")\n",
              "        .then(() => maybeLoadScript(\"vega-lite\", \"4.17.0\"))\n",
              "        .then(() => maybeLoadScript(\"vega-embed\", \"6\"))\n",
              "        .catch(showError)\n",
              "        .then(() => displayChart(vegaEmbed));\n",
              "    }\n",
              "  })({\"config\": {\"view\": {\"continuousWidth\": 400, \"continuousHeight\": 300}}, \"data\": {\"name\": \"data-64ce218bd0d3cc091b4c91f8ab1abf17\"}, \"mark\": \"arc\", \"encoding\": {\"color\": {\"field\": \"Fruit\", \"type\": \"nominal\"}, \"theta\": {\"field\": \"Count\", \"type\": \"quantitative\"}}, \"title\": \"Pie Chart of Fruits\", \"$schema\": \"https://vega.github.io/schema/vega-lite/v4.17.0.json\", \"datasets\": {\"data-64ce218bd0d3cc091b4c91f8ab1abf17\": [{\"Fruit\": \"Apples\", \"Count\": 215}, {\"Fruit\": \"Bananas\", \"Count\": 130}, {\"Fruit\": \"Cherries\", \"Count\": 245}, {\"Fruit\": \"Dates\", \"Count\": 210}]}}, {\"mode\": \"vega-lite\"});\n",
              "</script>"
            ],
            "text/plain": [
              "alt.Chart(...)"
            ]
          },
          "metadata": {},
          "execution_count": 7
        }
      ],
      "source": [
        "# Creating a pie chart\n",
        "data = pd.DataFrame({\n",
        "    'Fruit': ['Apples', 'Bananas', 'Cherries', 'Dates'],\n",
        "    'Count': [215, 130, 245, 210]\n",
        "})\n",
        "\n",
        "pie_chart = alt.Chart(data).mark_arc().encode(\n",
        "    theta=alt.Theta(field='Count', type='quantitative'),\n",
        "    color=alt.Color(field='Fruit', type='nominal')\n",
        ").properties(\n",
        "    title='Pie Chart of Fruits'\n",
        ")\n",
        "\n",
        "pie_chart"
      ]
    },
    {
      "cell_type": "markdown",
      "id": "6732067a",
      "metadata": {
        "id": "6732067a"
      },
      "source": [
        "## 8. Advanced Plotting Techniques"
      ]
    },
    {
      "cell_type": "code",
      "execution_count": 9,
      "id": "53f531b1",
      "metadata": {
        "colab": {
          "base_uri": "https://localhost:8080/",
          "height": 385
        },
        "id": "53f531b1",
        "outputId": "ebb646ab-a95a-42bc-a6e2-e573b6b0c4fa"
      },
      "outputs": [
        {
          "output_type": "execute_result",
          "data": {
            "text/html": [
              "\n",
              "<div id=\"altair-viz-b24ecbaa0bb44f20a4006b05775707eb\"></div>\n",
              "<script type=\"text/javascript\">\n",
              "  var VEGA_DEBUG = (typeof VEGA_DEBUG == \"undefined\") ? {} : VEGA_DEBUG;\n",
              "  (function(spec, embedOpt){\n",
              "    let outputDiv = document.currentScript.previousElementSibling;\n",
              "    if (outputDiv.id !== \"altair-viz-b24ecbaa0bb44f20a4006b05775707eb\") {\n",
              "      outputDiv = document.getElementById(\"altair-viz-b24ecbaa0bb44f20a4006b05775707eb\");\n",
              "    }\n",
              "    const paths = {\n",
              "      \"vega\": \"https://cdn.jsdelivr.net/npm//vega@5?noext\",\n",
              "      \"vega-lib\": \"https://cdn.jsdelivr.net/npm//vega-lib?noext\",\n",
              "      \"vega-lite\": \"https://cdn.jsdelivr.net/npm//vega-lite@4.17.0?noext\",\n",
              "      \"vega-embed\": \"https://cdn.jsdelivr.net/npm//vega-embed@6?noext\",\n",
              "    };\n",
              "\n",
              "    function maybeLoadScript(lib, version) {\n",
              "      var key = `${lib.replace(\"-\", \"\")}_version`;\n",
              "      return (VEGA_DEBUG[key] == version) ?\n",
              "        Promise.resolve(paths[lib]) :\n",
              "        new Promise(function(resolve, reject) {\n",
              "          var s = document.createElement('script');\n",
              "          document.getElementsByTagName(\"head\")[0].appendChild(s);\n",
              "          s.async = true;\n",
              "          s.onload = () => {\n",
              "            VEGA_DEBUG[key] = version;\n",
              "            return resolve(paths[lib]);\n",
              "          };\n",
              "          s.onerror = () => reject(`Error loading script: ${paths[lib]}`);\n",
              "          s.src = paths[lib];\n",
              "        });\n",
              "    }\n",
              "\n",
              "    function showError(err) {\n",
              "      outputDiv.innerHTML = `<div class=\"error\" style=\"color:red;\">${err}</div>`;\n",
              "      throw err;\n",
              "    }\n",
              "\n",
              "    function displayChart(vegaEmbed) {\n",
              "      vegaEmbed(outputDiv, spec, embedOpt)\n",
              "        .catch(err => showError(`Javascript Error: ${err.message}<br>This usually means there's a typo in your chart specification. See the javascript console for the full traceback.`));\n",
              "    }\n",
              "\n",
              "    if(typeof define === \"function\" && define.amd) {\n",
              "      requirejs.config({paths});\n",
              "      require([\"vega-embed\"], displayChart, err => showError(`Error loading script: ${err.message}`));\n",
              "    } else {\n",
              "      maybeLoadScript(\"vega\", \"5\")\n",
              "        .then(() => maybeLoadScript(\"vega-lite\", \"4.17.0\"))\n",
              "        .then(() => maybeLoadScript(\"vega-embed\", \"6\"))\n",
              "        .catch(showError)\n",
              "        .then(() => displayChart(vegaEmbed));\n",
              "    }\n",
              "  })({\"config\": {\"view\": {\"continuousWidth\": 400, \"continuousHeight\": 300}}, \"layer\": [{\"mark\": {\"type\": \"line\", \"color\": \"blue\"}, \"encoding\": {\"x\": {\"field\": \"x\", \"type\": \"quantitative\"}, \"y\": {\"field\": \"y1\", \"type\": \"quantitative\"}}}, {\"mark\": {\"type\": \"line\", \"color\": \"red\"}, \"encoding\": {\"x\": {\"field\": \"x\", \"type\": \"quantitative\"}, \"y\": {\"field\": \"y2\", \"type\": \"quantitative\"}}}], \"data\": {\"name\": \"data-4a6234bfabce682abd2a932a9e0dbd2c\"}, \"title\": \"Layered Line Plot\", \"$schema\": \"https://vega.github.io/schema/vega-lite/v4.17.0.json\", \"datasets\": {\"data-4a6234bfabce682abd2a932a9e0dbd2c\": [{\"x\": 0.0, \"y1\": 0.0, \"y2\": 1.0}, {\"x\": 0.10101010101010101, \"y1\": 0.1008384202581046, \"y2\": 0.9949028158568303}, {\"x\": 0.20202020202020202, \"y1\": 0.2006488565226854, \"y2\": 0.9796632259996998}, {\"x\": 0.30303030303030304, \"y1\": 0.2984138044476411, \"y2\": 0.9544365884201449}, {\"x\": 0.40404040404040403, \"y1\": 0.3931366121483298, \"y2\": 0.9194800727522776}, {\"x\": 0.5050505050505051, \"y1\": 0.48385164043793466, \"y2\": 0.8751500385908233}, {\"x\": 0.6060606060606061, \"y1\": 0.5696341069089657, \"y2\": 0.82189840263017}, {\"x\": 0.7070707070707071, \"y1\": 0.6496095135057065, \"y2\": 0.7602680316591506}, {\"x\": 0.8080808080808081, \"y1\": 0.7229625614794605, \"y2\": 0.6908872083770674}, {\"x\": 0.9090909090909091, \"y1\": 0.7889454628442574, \"y2\": 0.6144632264484674}, {\"x\": 1.0101010101010102, \"y1\": 0.8468855636029834, \"y2\": 0.5317751800910392}, {\"x\": 1.1111111111111112, \"y1\": 0.8961922010299563, \"y2\": 0.4436660217022285}, {\"x\": 1.2121212121212122, \"y1\": 0.9363627251042848, \"y2\": 0.3510339684920502}, {\"x\": 1.3131313131313131, \"y1\": 0.9669876227092996, \"y2\": 0.25482334572604864}, {\"x\": 1.4141414141414141, \"y1\": 0.9877546923600838, \"y2\": 0.15601495992575853}, {\"x\": 1.5151515151515151, \"y1\": 0.9984522269003895, \"y2\": 0.05561610016580674}, {\"x\": 1.6161616161616161, \"y1\": 0.9989711717233568, \"y2\": -0.04534973060188524}, {\"x\": 1.7171717171717171, \"y1\": 0.9893062365143401, \"y2\": -0.1458532495141353}, {\"x\": 1.8181818181818181, \"y1\": 0.9695559491823237, \"y2\": -0.24486988668507892}, {\"x\": 1.9191919191919191, \"y1\": 0.9399216514301312, \"y2\": -0.3413902300489206}, {\"x\": 2.0202020202020203, \"y1\": 0.9007054462029555, \"y2\": -0.43443031567828566}, {\"x\": 2.121212121212121, \"y1\": 0.8523071179396752, \"y2\": -0.5230416586748752}, {\"x\": 2.2222222222222223, \"y1\": 0.7952200570230491, \"y2\": -0.6063209223738354}, {\"x\": 2.323232323232323, \"y1\": 0.7300262299764464, \"y2\": -0.6834191272904034}, {\"x\": 2.4242424242424243, \"y1\": 0.6573902466827755, \"y2\": -0.7535503059294446}, {\"x\": 2.525252525252525, \"y1\": 0.5780525851065732, \"y2\": -0.815999515227557}, {\"x\": 2.6262626262626263, \"y1\": 0.4928220425889235, \"y2\": -0.8701301249459654}, {\"x\": 2.727272727272727, \"y1\": 0.40256749066949654, \"y2\": -0.9153903077136358}, {\"x\": 2.8282828282828283, \"y1\": 0.30820901749007684, \"y2\": -0.9513186645587279}, {\"x\": 2.929292929292929, \"y1\": 0.2107085480771929, \"y2\": -0.9775489285796396}, {\"x\": 3.0303030303030303, \"y1\": 0.11106003812412972, \"y2\": -0.993813698804694}, {\"x\": 3.131313131313131, \"y1\": 0.010279341240534697, \"y2\": -0.9999471661761239}, {\"x\": 3.2323232323232323, \"y1\": -0.09060614703340773, \"y2\": -0.9958868038686729}, {\"x\": 3.3333333333333335, \"y1\": -0.19056796287548539, \"y2\": -0.981674004711079}, {\"x\": 3.4343434343434343, \"y1\": -0.28858705872043244, \"y2\": -0.9574536592123347}, {\"x\": 3.5353535353535355, \"y1\": -0.38366419180611233, \"y2\": -0.9234726784944765}, {\"x\": 3.6363636363636362, \"y1\": -0.47483011082223947, \"y2\": -0.8800774771896732}, {\"x\": 3.7373737373737375, \"y1\": -0.5611554368152017, \"y2\": -0.8277104419618857}, {\"x\": 3.8383838383838382, \"y1\": -0.6417601376193878, \"y2\": -0.7669054216542901}, {\"x\": 3.9393939393939394, \"y1\": -0.7158224992291902, \"y2\": -0.69828228503756}, {\"x\": 4.040404040404041, \"y1\": -0.7825875026542022, \"y2\": -0.6225406016393301}, {\"x\": 4.141414141414141, \"y1\": -0.8413745208608701, \"y2\": -0.5404525100747903}, {\"x\": 4.242424242424242, \"y1\": -0.8915842573351402, \"y2\": -0.45285484658127084}, {\"x\": 4.343434343434343, \"y1\": -0.9327048555318336, \"y2\": -0.3606406140014481}, {\"x\": 4.444444444444445, \"y1\": -0.9643171169287782, \"y2\": -0.2647498781834829}, {\"x\": 4.545454545454545, \"y1\": -0.9860987744909296, \"y2\": -0.16616018460355267}, {\"x\": 4.646464646464646, \"y1\": -0.9978277779792126, \"y2\": -0.06587659290724678}, {\"x\": 4.747474747474747, \"y1\": -0.9993845576124357, \"y2\": 0.03507856903860484}, {\"x\": 4.848484848484849, \"y1\": -0.9907532430056771, \"y2\": 0.13567612713271912}, {\"x\": 4.94949494949495, \"y1\": -0.9720218249588334, \"y2\": 0.23489055281917826}, {\"x\": 5.05050505050505, \"y1\": -0.9433812584459996, \"y2\": 0.33171041770321597}, {\"x\": 5.151515151515151, \"y1\": -0.9051235159501367, \"y2\": 0.42514870442477243}, {\"x\": 5.252525252525253, \"y1\": -0.8576386109880517, \"y2\": 0.5142528686769626}, {\"x\": 5.353535353535354, \"y1\": -0.8014106221689697, \"y2\": 0.5981145497935533}, {\"x\": 5.454545454545454, \"y1\": -0.7370127583189133, \"y2\": 0.6758788309121296}, {\"x\": 5.555555555555555, \"y1\": -0.6651015149788224, \"y2\": 0.7467529543114478}, {\"x\": 5.656565656565657, \"y1\": -0.586409981847235, \"y2\": 0.810014403075603}, {\"x\": 5.757575757575758, \"y1\": -0.5017403693939113, \"y2\": 0.865018266697566}, {\"x\": 5.858585858585858, \"y1\": -0.4119558308308628, \"y2\": 0.9112038155344026}, {\"x\": 5.959595959595959, \"y1\": -0.31797166281061867, \"y2\": 0.9481002170917641}, {\"x\": 6.0606060606060606, \"y1\": -0.22074597455506334, \"y2\": 0.9753313358637337}, {\"x\": 6.161616161616162, \"y1\": -0.12126992053716677, \"y2\": 0.9926195677967009}, {\"x\": 6.262626262626262, \"y1\": -0.020557596287260064, \"y2\": 0.9997886702873213}, {\"x\": 6.363636363636363, \"y1\": 0.08036429967028173, \"y2\": 0.9967655588645231}, {\"x\": 6.4646464646464645, \"y1\": 0.18046693235991093, \"y2\": 0.983581052239521}, {\"x\": 6.565656565656566, \"y1\": 0.27872981867755725, \"y2\": 0.9603695581285238}, {\"x\": 6.666666666666667, \"y1\": 0.37415123057121996, \"y2\": 0.9273677030509753}, {\"x\": 6.767676767676767, \"y1\": 0.4657584070256517, \"y2\": 0.8849119200716687}, {\"x\": 6.8686868686868685, \"y1\": 0.5526174707464059, \"y2\": 0.8334350190781794}, {\"x\": 6.96969696969697, \"y1\": 0.6338429484489058, \"y2\": 0.7734617745574747}, {\"x\": 7.070707070707071, \"y1\": 0.7086067976992182, \"y2\": 0.7056035758515253}, {\"x\": 7.171717171717171, \"y1\": 0.7761468482835805, \"y2\": 0.6305521944291881}, {\"x\": 7.2727272727272725, \"y1\": 0.8357745720522589, \"y2\": 0.5490727317130796}, {\"x\": 7.373737373737374, \"y1\": 0.8868821020290788, \"y2\": 0.4619958193539013}, {\"x\": 7.474747474747475, \"y1\": 0.9289484292312513, \"y2\": 0.3702091514654802}, {\"x\": 7.575757575757575, \"y1\": 0.9615447140268235, \"y2\": 0.2746484351440477}, {\"x\": 7.6767676767676765, \"y1\": 0.9843386578838236, \"y2\": 0.17628785152548898}, {\"x\": 7.777777777777778, \"y1\": 0.9970978909438748, \"y2\": 0.07613012462407193}, {\"x\": 7.878787878787879, \"y1\": 0.9996923408861117, \"y2\": -0.02480370080544784}, {\"x\": 7.979797979797979, \"y1\": 0.9920955589323228, \"y2\": -0.12548466817409182}, {\"x\": 8.080808080808081, \"y1\": 0.9743849894755358, \"y2\": -0.22488639862108173}, {\"x\": 8.181818181818182, \"y1\": 0.9467411805833543, \"y2\": -0.3219955542979381}, {\"x\": 8.282828282828282, \"y1\": 0.9094459434244625, \"y2\": -0.41582216870771727}, {\"x\": 8.383838383838384, \"y1\": 0.8628794793817836, \"y2\": -0.5054097387880672}, {\"x\": 8.484848484848484, \"y1\": 0.8075165041395626, \"y2\": -0.5898449758557073}, {\"x\": 8.585858585858587, \"y1\": 0.7439214082568444, \"y2\": -0.6682671160076287}, {\"x\": 8.686868686868687, \"y1\": 0.6727425035622647, \"y2\": -0.7398766950653171}, {\"x\": 8.787878787878787, \"y1\": 0.5947054140244975, \"y2\": -0.80394369860703}, {\"x\": 8.88888888888889, \"y1\": 0.510605678474283, \"y2\": -0.859815004003662}, {\"x\": 8.98989898989899, \"y1\": 0.4213006405886069, \"y2\": -0.9069210385913591}, {\"x\": 9.09090909090909, \"y1\": 0.32770070881349983, \"y2\": -0.9447815861050266}, {\"x\": 9.191919191919192, \"y1\": 0.23076007532505177, \"y2\": -0.973010682179788}, {\"x\": 9.292929292929292, \"y1\": 0.13146698864295842, \"y2\": -0.9913205490138658}, {\"x\": 9.393939393939394, \"y1\": 0.03083367906114098, \"y2\": -0.9995245290814802}, {\"x\": 9.494949494949495, \"y1\": -0.07011396040064677, \"y2\": -0.9975389879884077}, {\"x\": 9.595959595959595, \"y1\": -0.1703468323280965, \"y2\": -0.9853841670717991}, {\"x\": 9.696969696969697, \"y1\": -0.26884312591038406, \"y2\": -0.9631839770525324}, {\"x\": 9.797979797979798, \"y1\": -0.3645987336558887, \"y2\": -0.9311647348436916}, {\"x\": 9.8989898989899, \"y1\": -0.45663748763377376, \"y2\": -0.8896528563926016}, {\"x\": 10.0, \"y1\": -0.5440211108893698, \"y2\": -0.8390715290764524}]}}, {\"mode\": \"vega-lite\"});\n",
              "</script>"
            ],
            "text/plain": [
              "alt.LayerChart(...)"
            ]
          },
          "metadata": {},
          "execution_count": 9
        }
      ],
      "source": [
        "# Creating a layered plot\n",
        "data = pd.DataFrame({\n",
        "    'x': np.linspace(0, 10, 100),\n",
        "    'y1': np.sin(np.linspace(0, 10, 100)),\n",
        "    'y2': np.cos(np.linspace(0, 10, 100))\n",
        "})\n",
        "\n",
        "line1 = alt.Chart(data).mark_line(color='blue').encode(\n",
        "    x='x',\n",
        "    y='y1'\n",
        ")\n",
        "\n",
        "line2 = alt.Chart(data).mark_line(color='red').encode(\n",
        "    x='x',\n",
        "    y='y2'\n",
        ")\n",
        "\n",
        "layered_plot = alt.layer(line1, line2).properties(\n",
        "    title='Layered Line Plot'\n",
        ")\n",
        "\n",
        "layered_plot"
      ]
    }
  ],
  "metadata": {
    "colab": {
      "provenance": []
    },
    "language_info": {
      "name": "python"
    },
    "kernelspec": {
      "name": "python3",
      "display_name": "Python 3"
    }
  },
  "nbformat": 4,
  "nbformat_minor": 5
}